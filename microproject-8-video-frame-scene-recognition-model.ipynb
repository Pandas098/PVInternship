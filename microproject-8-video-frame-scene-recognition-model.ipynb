{
 "cells": [
  {
   "attachments": {},
   "cell_type": "markdown",
   "metadata": {},
   "source": [
    "<h1 style=\"text-align: center\">\n",
    "<div style=\"color: #DD3403; font-size: 60%\">MicroProject #8</div>\n",
    "<span style=\"\">Building a Scene Recognition Model form Video Frames by Wade Fagen-Wlmschneider</span>\n",
    "\n",
    "\n",
    "<hr style=\"color: #DD3403;\">"
   ]
  },
  {
   "attachments": {},
   "cell_type": "markdown",
   "metadata": {},
   "source": [
    "## Data Source: Frames of a Video\n",
    "\n",
    "Visual images are an important part of all media and Data Scientists are often using images as data sources.  In this MicroProject, you will create a simple model to detect the amount of time spent in two different \"scenes\". These \"scenes\" are taken from the office-hour style videos that you have been seeing in your different Modules. \n",
    "\n",
    "In doing this, you will be building a **simple artificial intelligence (AI) algorithm** that will be able to predict the classification of unknown future data.  "
   ]
  },
  {
   "cell_type": "markdown",
   "metadata": {},
   "source": [
    "<hr style=\"color: #DD3403;\">"
   ]
  },
  {
   "attachments": {},
   "cell_type": "markdown",
   "metadata": {},
   "source": [
    "## Part 1: Loading a Video Frame\n",
    "\n",
    "For this MicroProject, we already did a screen capture from the DISCOVERY video [*\"Outliers Impact on Correlation (m6-02b)\"*](https://www.youtube.com/watch?v=bd6hQ2UcIJc) that is used as part of our [DISCOVERY lecture covering Correlation](https://discovery.cs.illinois.edu/learn/Towards-Machine-Learning/Correlation/).  We captured one video frame every second and stored it as an image, and those files are available fo you in the `frames` directory of this MicroProejct.\n",
    "\n",
    "To analyze these images, the `skimage` library is commonly used to load image data into Python.  Specifically the `skimage.io.imread(filename)` will read a filename and return the pixel color for every pixel in the image.\n",
    "\n",
    "To use the `imread` function, you will need to either do one of the following:\n",
    "\n",
    "1. Either import all of `skimage` by using the import line `import skimage`.  After importing all of `skimage`, you will call the function using its fully qualified name: `skimage.io.imread(filename)`.\n",
    "\n",
    "**OR**\n",
    "\n",
    "2. Import only the `imread` function by using the import line `from skimage.io import imread`.  After importing only `imread`, you will call the function directly: `imread(filename)`\n",
    "\n",
    "### Part 1.1: Read Pixel Data for `frames/frame_0001.jpg`\n",
    "\n",
    "In the following cell, store the pixel color data from the file named `frames/frame_0001.jpg` in the variable `pixels` by using the `imread` function:\n"
   ]
  },
  {
   "cell_type": "code",
   "execution_count": 2,
   "metadata": {},
   "outputs": [],
   "source": [
    "from skimage.io import imread\n",
    "\n",
    "pixels = imread(r\"C:\\Users\\WOW\\Downloads\\Microproject 8\\Microproject 8\\frames\\frame_0001.jpg\")"
   ]
  },
  {
   "cell_type": "code",
   "execution_count": 3,
   "metadata": {},
   "outputs": [
    {
     "name": "stdout",
     "output_type": "stream",
     "text": [
      "🎉 All Tests Passed! 🎉\n"
     ]
    }
   ],
   "source": [
    "### TEST CASE for Part 1: Loading a Video Frame\n",
    "tada = \"\\N{PARTY POPPER}\"\n",
    "\n",
    "assert(\"pixels\" in vars()), \"Make sure you store the pixel data in the variable `pixels`.\"\n",
    "assert(pixels.shape == (360, 640, 3)), \"Make sure you are getting the pixel color data from the correct file.\"\n",
    "assert(pixels[0][0][0] == 91), \"Make sure you are getting the pixel color data from the correct file.\"\n",
    "\n",
    "print(f\"{tada} All Tests Passed! {tada}\")"
   ]
  },
  {
   "cell_type": "markdown",
   "metadata": {},
   "source": [
    "Here's the image you loaded into `pixels` for reference as we work on the next section:\n",
    "\n",
    "![frame_0001](frames/frame_0001.jpg \"frame_0001\")\n"
   ]
  },
  {
   "attachments": {},
   "cell_type": "markdown",
   "metadata": {},
   "source": [
    "<hr style=\"color: #DD3403;\">"
   ]
  },
  {
   "attachments": {},
   "cell_type": "markdown",
   "metadata": {},
   "source": [
    "## Part 2: Finding Average Image Colors\n",
    "\n",
    "The **shape** of your data is the `rows` by `columns` by `color values` as 3-dimensional list.  Here's a formatted view of your `pixels` data:\n",
    "\n",
    "```py\n",
    "[\n",
    "  [ [91, 83, 80], [91, 83, 80], [91, 83, 80] ], ... ],   # Row #1\n",
    "  [ [91, 83, 80], [91, 83, 80], [91, 83, 80] ], ... ],   # Row #2\n",
    "  ...                                                    # ...\n",
    "]\n",
    "```\n",
    "\n",
    "The current shape of `pixels` is 360 rows by 640 columns by 3 colors.  Each of the three colors represent the three color channels on a screen: red, green, and blue.\n",
    "\n",
    "Using `pixel.mean()`, we find the average color by grouping **ALL** the color channels (combining blues and reds and greens together).  Try it out:\n"
   ]
  },
  {
   "cell_type": "code",
   "execution_count": 4,
   "metadata": {},
   "outputs": [
    {
     "data": {
      "text/plain": [
       "np.float64(72.18011863425926)"
      ]
     },
     "execution_count": 4,
     "metadata": {},
     "output_type": "execute_result"
    }
   ],
   "source": [
    "pixels.mean()"
   ]
  },
  {
   "attachments": {},
   "cell_type": "markdown",
   "metadata": {},
   "source": [
    "We can also find the average of each color channel instead of grouping them all together.  The `pixels.reshape(-1, 3).mean(axis=0)` function will return the mean of each color channel across all pixels.  Check out the new mean output:"
   ]
  },
  {
   "cell_type": "code",
   "execution_count": 5,
   "metadata": {},
   "outputs": [
    {
     "data": {
      "text/plain": [
       "array([[ 91,  83,  80],\n",
       "       [ 91,  83,  80],\n",
       "       [ 91,  83,  80],\n",
       "       ...,\n",
       "       [162, 131, 110],\n",
       "       [162, 131, 110],\n",
       "       [162, 131, 110]], shape=(230400, 3), dtype=uint8)"
      ]
     },
     "execution_count": 5,
     "metadata": {},
     "output_type": "execute_result"
    }
   ],
   "source": [
    "# pixels.reshape(-1, 3) is being used to arrange the `pixels` data into 1 column\n",
    "# while still preserving the original color channel data for each pixel, which is\n",
    "# necessary to get the mean for each color channel:\n",
    "pixels.reshape(-1, 3)"
   ]
  },
  {
   "cell_type": "markdown",
   "metadata": {},
   "source": [
    "We can combine it with `.mean(axis=0)` to find the average color of the three color channels:"
   ]
  },
  {
   "cell_type": "code",
   "execution_count": null,
   "metadata": {},
   "outputs": [
    {
     "data": {
      "text/plain": [
       "array([88.65917535, 67.45620226, 60.4249783 ])"
      ]
     },
     "execution_count": 6,
     "metadata": {},
     "output_type": "execute_result"
    }
   ],
   "source": [
    "pixels.reshape(-1, 3).mean(axis=0)"
   ]
  },
  {
   "cell_type": "markdown",
   "metadata": {},
   "source": [
    "Finally, when a `list` or `array` is returned, we can spread the values into different variables where each variable takes one value from the list.  For example:\n",
    "\n",
    "> ```py\n",
    "> # Spreads the [2, 4], so x=2, and y=4:\n",
    "> x, y = [2, 4]\n",
    "> ```\n",
    "\n",
    "We can spread any size list into as many variables as elements in the list:\n",
    "\n",
    "> ```py\n",
    "> # Spreads a list of five elements into five variables:\n",
    "> a, b, c, d, e = [20, 30, 40, 50, 60]\n",
    "> # a = 20; b = 30; c = 40; d = 50; and e = 60.\n",
    "> ```\n",
    "\n",
    "This can be helpful for the average pixel colors of an image:\n",
    "\n",
    "> ```py\n",
    "> # Spreads the list of three color channels into r, g, and, b:\n",
    "> r, g, b = pixels.reshape(-1, 3).mean(axis=0)\n",
    "> ```"
   ]
  },
  {
   "attachments": {},
   "cell_type": "markdown",
   "metadata": {},
   "source": [
    "### Part 2.1: Finding the Average Color of One Image\n",
    "\n",
    "Store `pixels`'s average red value in `r`, average green value in `g`, and average blue value in `b`:"
   ]
  },
  {
   "cell_type": "code",
   "execution_count": 7,
   "metadata": {},
   "outputs": [
    {
     "name": "stdout",
     "output_type": "stream",
     "text": [
      "88.65917534722222\n"
     ]
    }
   ],
   "source": [
    "r,g,b = pixels.reshape(-1,3).mean(axis=0)\n",
    "print(r)"
   ]
  },
  {
   "cell_type": "code",
   "execution_count": 8,
   "metadata": {},
   "outputs": [
    {
     "name": "stdout",
     "output_type": "stream",
     "text": [
      "🎉 All Tests Passed! 🎉\n",
      "- The image's average red color channel is 89 / 255\n",
      "- The image's average green color channel is 67 / 255\n",
      "- The image's average blue color channel is 60 / 255\n"
     ]
    }
   ],
   "source": [
    "### TEST CASE for Part 2.1: Finding the Average Color of One Image\n",
    "tada = \"\\N{PARTY POPPER}\"\n",
    "\n",
    "import math\n",
    "assert(\"r\" in vars()), \"The average red value should be stored in the variable `r`.\"\n",
    "assert(\"g\" in vars()), \"The average green value should be stored in the variable `g`.\"\n",
    "assert(\"b\" in vars()), \"The average blue value should be stored in the variable `b`.\"\n",
    "assert(math.isclose(r, 88.65917534722222, abs_tol=1)), f\"Your average red value is incorrect (r={r}).\"\n",
    "assert(math.isclose(g, 67.45620225694445, abs_tol=1)), f\"Your average green value is incorrect (g={g}).\"\n",
    "assert(math.isclose(b, 60.42497829861111, abs_tol=1)), f\"Your average blue value is incorrect (b={b}).\"\n",
    "\n",
    "print(f\"{tada} All Tests Passed! {tada}\")\n",
    "print(f\"- The image's average red color channel is {round(r)} / 255\")\n",
    "print(f\"- The image's average green color channel is {round(g)} / 255\")\n",
    "print(f\"- The image's average blue color channel is {round(b)} / 255\")\n"
   ]
  },
  {
   "attachments": {},
   "cell_type": "markdown",
   "metadata": {},
   "source": [
    "### Part 2.2: Finding the Average Color of All Images\n",
    "\n",
    "The following code loops through every file in the `frames` directory -- this will include `frame_0001.jpg` (like you analyzed already) and also `frame_0002.jpg`, `frame_0003.jpg`, and all 300+ frames!\n",
    "\n",
    "Create a DataFrame named `df` where each row is one frame with the following four columns:\n",
    "- `frame`, the filename of the frame\n",
    "- `r`, the average red color of the frame\n",
    "- `g`, the average green color of the frame\n",
    "- `b`, the average blue color of the frame\n",
    "\n",
    "The structure of the code should be nearly identical to writing a simulation.  Instead of creating random variables for your real world data, your real world data will be the filename, and the average color values. \n",
    "\n",
    "- See: https://discovery.cs.illinois.edu/learn/Simulation-and-Distributions/Simple-Simulations-in-Python/\n",
    "\n",
    "*(Hint: Start at the very beginning of this MicroProject and observe the steps taken to get the average colors of `frame_0001.jpg`.)*"
   ]
  },
  {
   "cell_type": "code",
   "execution_count": 23,
   "metadata": {},
   "outputs": [
    {
     "data": {
      "text/html": [
       "<div>\n",
       "<style scoped>\n",
       "    .dataframe tbody tr th:only-of-type {\n",
       "        vertical-align: middle;\n",
       "    }\n",
       "\n",
       "    .dataframe tbody tr th {\n",
       "        vertical-align: top;\n",
       "    }\n",
       "\n",
       "    .dataframe thead th {\n",
       "        text-align: right;\n",
       "    }\n",
       "</style>\n",
       "<table border=\"1\" class=\"dataframe\">\n",
       "  <thead>\n",
       "    <tr style=\"text-align: right;\">\n",
       "      <th></th>\n",
       "      <th>r</th>\n",
       "      <th>g</th>\n",
       "      <th>b</th>\n",
       "      <th>frame</th>\n",
       "    </tr>\n",
       "  </thead>\n",
       "  <tbody>\n",
       "    <tr>\n",
       "      <th>0</th>\n",
       "      <td>88.659175</td>\n",
       "      <td>67.456202</td>\n",
       "      <td>60.424978</td>\n",
       "      <td>frames\\frame_0001.jpg</td>\n",
       "    </tr>\n",
       "    <tr>\n",
       "      <th>1</th>\n",
       "      <td>88.697865</td>\n",
       "      <td>67.453529</td>\n",
       "      <td>60.475660</td>\n",
       "      <td>frames\\frame_0002.jpg</td>\n",
       "    </tr>\n",
       "    <tr>\n",
       "      <th>2</th>\n",
       "      <td>88.028351</td>\n",
       "      <td>66.913845</td>\n",
       "      <td>60.064592</td>\n",
       "      <td>frames\\frame_0003.jpg</td>\n",
       "    </tr>\n",
       "    <tr>\n",
       "      <th>3</th>\n",
       "      <td>88.825629</td>\n",
       "      <td>67.340347</td>\n",
       "      <td>60.491645</td>\n",
       "      <td>frames\\frame_0004.jpg</td>\n",
       "    </tr>\n",
       "    <tr>\n",
       "      <th>4</th>\n",
       "      <td>88.211714</td>\n",
       "      <td>66.979661</td>\n",
       "      <td>59.983173</td>\n",
       "      <td>frames\\frame_0005.jpg</td>\n",
       "    </tr>\n",
       "    <tr>\n",
       "      <th>...</th>\n",
       "      <td>...</td>\n",
       "      <td>...</td>\n",
       "      <td>...</td>\n",
       "      <td>...</td>\n",
       "    </tr>\n",
       "    <tr>\n",
       "      <th>325</th>\n",
       "      <td>7.470391</td>\n",
       "      <td>7.473355</td>\n",
       "      <td>7.479188</td>\n",
       "      <td>frames\\frame_0326.jpg</td>\n",
       "    </tr>\n",
       "    <tr>\n",
       "      <th>326</th>\n",
       "      <td>7.469779</td>\n",
       "      <td>7.472743</td>\n",
       "      <td>7.478576</td>\n",
       "      <td>frames\\frame_0327.jpg</td>\n",
       "    </tr>\n",
       "    <tr>\n",
       "      <th>327</th>\n",
       "      <td>7.480234</td>\n",
       "      <td>7.481519</td>\n",
       "      <td>7.487826</td>\n",
       "      <td>frames\\frame_0328.jpg</td>\n",
       "    </tr>\n",
       "    <tr>\n",
       "      <th>328</th>\n",
       "      <td>7.480004</td>\n",
       "      <td>7.481289</td>\n",
       "      <td>7.487595</td>\n",
       "      <td>frames\\frame_0329.jpg</td>\n",
       "    </tr>\n",
       "    <tr>\n",
       "      <th>329</th>\n",
       "      <td>4.657478</td>\n",
       "      <td>4.658776</td>\n",
       "      <td>4.665082</td>\n",
       "      <td>frames\\frame_0330.jpg</td>\n",
       "    </tr>\n",
       "  </tbody>\n",
       "</table>\n",
       "<p>330 rows × 4 columns</p>\n",
       "</div>"
      ],
      "text/plain": [
       "             r          g          b                  frame\n",
       "0    88.659175  67.456202  60.424978  frames\\frame_0001.jpg\n",
       "1    88.697865  67.453529  60.475660  frames\\frame_0002.jpg\n",
       "2    88.028351  66.913845  60.064592  frames\\frame_0003.jpg\n",
       "3    88.825629  67.340347  60.491645  frames\\frame_0004.jpg\n",
       "4    88.211714  66.979661  59.983173  frames\\frame_0005.jpg\n",
       "..         ...        ...        ...                    ...\n",
       "325   7.470391   7.473355   7.479188  frames\\frame_0326.jpg\n",
       "326   7.469779   7.472743   7.478576  frames\\frame_0327.jpg\n",
       "327   7.480234   7.481519   7.487826  frames\\frame_0328.jpg\n",
       "328   7.480004   7.481289   7.487595  frames\\frame_0329.jpg\n",
       "329   4.657478   4.658776   4.665082  frames\\frame_0330.jpg\n",
       "\n",
       "[330 rows x 4 columns]"
      ]
     },
     "execution_count": 23,
     "metadata": {},
     "output_type": "execute_result"
    }
   ],
   "source": [
    "import glob\n",
    "import os\n",
    "import pandas as pd\n",
    "\n",
    "data = []\n",
    "frames = []\n",
    "for frameFileName in glob.glob(os.path.join(\"frames\", \"*.jpg\")): \n",
    "  # `frameFileName` contains the filename of the frame (ex: \"frames/frame_0001.jpg\").\n",
    "  # Use `frameFileName` for `imread` to read the frame image data.\n",
    "  pixels = imread(frameFileName)\n",
    "  data.append(pixels.reshape(-1, 3).mean(axis=0))\n",
    "  frames.append(frameFileName)\n",
    "  \n",
    "\n",
    "df = pd.DataFrame(data, columns = [\"r\",\"g\",\"b\"])\n",
    "df[\"frame\"] = frames\n",
    "df\n"
   ]
  },
  {
   "cell_type": "code",
   "execution_count": 24,
   "metadata": {},
   "outputs": [
    {
     "name": "stdout",
     "output_type": "stream",
     "text": [
      "🎉 All Tests Passed! 🎉\n"
     ]
    }
   ],
   "source": [
    "### TEST CASE for Part 2.2: Finding the Average Color of All Images\n",
    "tada = \"\\N{PARTY POPPER}\"\n",
    "\n",
    "import math\n",
    "assert(\"df\" in vars()), \"Make sure your DataFrame is named `df`.\"\n",
    "assert(len(df) == 330), \"Your DataFrame has the incorrect number of rows.\"\n",
    "assert(\"r\" in df), \"Your `df` is missing the `r` column.\"\n",
    "assert(\"g\" in df), \"Your `df` is missing the `g` column.\"\n",
    "assert(\"b\" in df), \"Your `df` is missing the `b` column.\"\n",
    "assert(\"frame\" in df), \"Your `df` is missing the `frame` column.\"\n",
    "assert( abs( df[ df.frame.str.endswith(\"_0001.jpg\") ][\"r\"].sum() - 88 ) < 1 ), \"You have calculated the color averages incorrectly.\"\n",
    "\n",
    "print(f\"{tada} All Tests Passed! {tada}\")"
   ]
  },
  {
   "attachments": {},
   "cell_type": "markdown",
   "metadata": {},
   "source": [
    "<hr style=\"color: #DD3403;\">"
   ]
  },
  {
   "attachments": {},
   "cell_type": "markdown",
   "metadata": {},
   "source": [
    "## Part 3: Create a Simple Classifier\n",
    "\n",
    "In the DISCOVERY lecture videos, there are two primary \"scenes\" in the video:\n",
    "\n",
    "1. **\"Office Hours Studio Scene\"**, where Karle and Wade are talking to each other and the audience\n",
    "\n",
    "2. **\"Notebook Scene\"**, where the notebook is displayed\n",
    "\n",
    "View the `frames` folder on your computer and find **at least three more frames** that are in the \"Office Hours Studio Scene\" and **at least three more frames** that are in the \"Notebook Scene\".  Add the frames you found to the lists below:"
   ]
  },
  {
   "cell_type": "code",
   "execution_count": 25,
   "metadata": {},
   "outputs": [],
   "source": [
    "# List of at least four office hour frames by the filename's frame number:\n",
    "office_hour_frames = [1, 12, 26, 97 ]\n",
    "\n",
    "# List of at least four notebook frames by the filename's frame number:\n",
    "notebook_frames = [30, 45, 68, 85 ]"
   ]
  },
  {
   "attachments": {},
   "cell_type": "markdown",
   "metadata": {},
   "source": [
    "### Part 3.1: Observing the Average Colors of Your Frames\n",
    "\n",
    "The following code uses your sample frames to display the average color values for your selected frames:"
   ]
  },
  {
   "cell_type": "code",
   "execution_count": 26,
   "metadata": {},
   "outputs": [
    {
     "name": "stdout",
     "output_type": "stream",
     "text": [
      "== Office Hour Frames ==\n",
      "             r          g          b                  frame\n",
      "0    88.659175  67.456202  60.424978  frames\\frame_0001.jpg\n",
      "11  106.565577  53.084271  45.153090  frames\\frame_0012.jpg\n",
      "25   88.111723  67.775538  59.760907  frames\\frame_0026.jpg\n",
      "96   88.675165  68.549384  62.152448  frames\\frame_0097.jpg\n",
      "\n",
      "== Notebook Frames ==\n",
      "             r           g           b                  frame\n",
      "29  237.225595  236.513451  236.777122  frames\\frame_0030.jpg\n",
      "44  233.249470  232.604392  232.842834  frames\\frame_0045.jpg\n",
      "67  231.294601  230.751567  231.001714  frames\\frame_0068.jpg\n",
      "84  230.724310  229.920130  230.498368  frames\\frame_0085.jpg\n"
     ]
    }
   ],
   "source": [
    "import os\n",
    "\n",
    "print(\"== Office Hour Frames ==\")\n",
    "print( df[ df[\"frame\"].isin( [os.path.join(\"frames\", f\"frame_{frame:04d}.jpg\") for frame in office_hour_frames] ) ] )\n",
    "print()\n",
    "print(\"== Notebook Frames ==\")\n",
    "print( df[ df[\"frame\"].isin( [os.path.join(\"frames\", f\"frame_{frame:04d}.jpg\") for frame in notebook_frames] ) ] )"
   ]
  },
  {
   "attachments": {},
   "cell_type": "markdown",
   "metadata": {},
   "source": [
    "### Part 3.2: Create Your Classifier Function\n",
    "\n",
    "A **classifier function** is a function that takes data and gives a classification for that data.  Create a new function, `classifyFrame` that receives an `r`, `g`, and `b` value.\n",
    "\n",
    "Using information from your frames above, have the function return the string `\"office hour\"` or `\"notebook\"` based on the values of `r`, `g`, and `b`. To do this, try to observe general trends in the color values for both kinds of frames.\n",
    "\n",
    "**IMPORTANT**: Make sure your classifier can handle **ANY** input -- even frames you have not seen before!  For example, you might decide that you will call a frame an `\"office hour\"` frame if the sum of `r`, `g` and `b` is greater than 100 and otherwise it's a `\"notebook\"` scene."
   ]
  },
  {
   "cell_type": "code",
   "execution_count": 31,
   "metadata": {},
   "outputs": [],
   "source": [
    "def classifyFrame(r, g, b):\n",
    "  # Return either \"office hour\" or \"notebook\" based on the values of `r`, `g`, and `b`.\n",
    "  mean = (r+g+b)/3\n",
    "  if mean >= 150:\n",
    "    return \"notebook\"\n",
    "  else: return \"office hour\""
   ]
  },
  {
   "cell_type": "markdown",
   "metadata": {},
   "source": [
    "Here's a function to test your classifier to make sure your function returns a valid result (feel free to edit this).\n",
    "- Right now, focus on making sure your function returns a valid result (either `notebook` or `office hour`)\n",
    "- In the next part, we'll work on making sure it is an accurate classifier."
   ]
  },
  {
   "cell_type": "code",
   "execution_count": 32,
   "metadata": {},
   "outputs": [
    {
     "data": {
      "text/plain": [
       "'office hour'"
      ]
     },
     "execution_count": 32,
     "metadata": {},
     "output_type": "execute_result"
    }
   ],
   "source": [
    "# Testing the `classifyFrame` function:\n",
    "classifyFrame(0, 0, 0)"
   ]
  },
  {
   "cell_type": "code",
   "execution_count": 33,
   "metadata": {},
   "outputs": [
    {
     "name": "stdout",
     "output_type": "stream",
     "text": [
      "🎉 All Tests Passed! 🎉\n"
     ]
    }
   ],
   "source": [
    "### TEST CASE for Part 3.2: Create Your Classifier Function\n",
    "tada = \"\\N{PARTY POPPER}\"\n",
    "\n",
    "r = classifyFrame(0, 0, 0)\n",
    "assert(r == \"notebook\" or r == \"office hour\"), \"Your classifier function is misclassifying frames.\"\n",
    "\n",
    "r = classifyFrame(255, 255, 255)\n",
    "assert(r == \"notebook\" or r == \"office hour\"), \"Your classifier function is misclassifying frames.\"\n",
    "\n",
    "r = classifyFrame(0, 255, 255)\n",
    "assert(r == \"notebook\" or r == \"office hour\"), \"Your classifier function is misclassifying frames.\"\n",
    "\n",
    "r = classifyFrame(255, 255, 0)\n",
    "assert(r == \"notebook\" or r == \"office hour\"), \"Your classifier function is misclassifying frames.\"\n",
    "\n",
    "print(f\"{tada} All Tests Passed! {tada}\")"
   ]
  },
  {
   "attachments": {},
   "cell_type": "markdown",
   "metadata": {},
   "source": [
    "<hr style=\"color: #DD3403;\">"
   ]
  },
  {
   "attachments": {},
   "cell_type": "markdown",
   "metadata": {},
   "source": [
    "## Part 4: Using Your Classifier!\n",
    "\n",
    "Now that we have a classifier, we should run it on every frame and see if your classifier correctly classifies scenes in the video frames.\n",
    "\n",
    "The following cell runs your `classifyFrame` classifier on every frame and adds a new column `scene`. Then, 20 random rows are displayed below.  This output can be checked against the actual images.\n",
    "- You should see a mix of `office hour` and `notebook` values in your **scene** column.\n",
    "- If your classifier is not correct, update your `classifyFrame` function in the previous section and re-run that cell, and then re-run this cell to use your updated `classifyFrame` function."
   ]
  },
  {
   "cell_type": "code",
   "execution_count": 34,
   "metadata": {},
   "outputs": [
    {
     "data": {
      "text/html": [
       "<div>\n",
       "<style scoped>\n",
       "    .dataframe tbody tr th:only-of-type {\n",
       "        vertical-align: middle;\n",
       "    }\n",
       "\n",
       "    .dataframe tbody tr th {\n",
       "        vertical-align: top;\n",
       "    }\n",
       "\n",
       "    .dataframe thead th {\n",
       "        text-align: right;\n",
       "    }\n",
       "</style>\n",
       "<table border=\"1\" class=\"dataframe\">\n",
       "  <thead>\n",
       "    <tr style=\"text-align: right;\">\n",
       "      <th></th>\n",
       "      <th>r</th>\n",
       "      <th>g</th>\n",
       "      <th>b</th>\n",
       "      <th>frame</th>\n",
       "      <th>scene</th>\n",
       "    </tr>\n",
       "  </thead>\n",
       "  <tbody>\n",
       "    <tr>\n",
       "      <th>316</th>\n",
       "      <td>233.539870</td>\n",
       "      <td>66.995486</td>\n",
       "      <td>47.766740</td>\n",
       "      <td>frames\\frame_0317.jpg</td>\n",
       "      <td>office hour</td>\n",
       "    </tr>\n",
       "    <tr>\n",
       "      <th>303</th>\n",
       "      <td>90.062201</td>\n",
       "      <td>70.626554</td>\n",
       "      <td>63.144909</td>\n",
       "      <td>frames\\frame_0304.jpg</td>\n",
       "      <td>office hour</td>\n",
       "    </tr>\n",
       "    <tr>\n",
       "      <th>270</th>\n",
       "      <td>243.563937</td>\n",
       "      <td>242.652452</td>\n",
       "      <td>241.196849</td>\n",
       "      <td>frames\\frame_0271.jpg</td>\n",
       "      <td>notebook</td>\n",
       "    </tr>\n",
       "    <tr>\n",
       "      <th>292</th>\n",
       "      <td>242.170039</td>\n",
       "      <td>241.025152</td>\n",
       "      <td>239.725022</td>\n",
       "      <td>frames\\frame_0293.jpg</td>\n",
       "      <td>notebook</td>\n",
       "    </tr>\n",
       "    <tr>\n",
       "      <th>221</th>\n",
       "      <td>244.537031</td>\n",
       "      <td>243.870859</td>\n",
       "      <td>242.090972</td>\n",
       "      <td>frames\\frame_0222.jpg</td>\n",
       "      <td>notebook</td>\n",
       "    </tr>\n",
       "    <tr>\n",
       "      <th>177</th>\n",
       "      <td>232.595569</td>\n",
       "      <td>231.870260</td>\n",
       "      <td>229.682127</td>\n",
       "      <td>frames\\frame_0178.jpg</td>\n",
       "      <td>notebook</td>\n",
       "    </tr>\n",
       "    <tr>\n",
       "      <th>121</th>\n",
       "      <td>88.056259</td>\n",
       "      <td>68.120924</td>\n",
       "      <td>60.819306</td>\n",
       "      <td>frames\\frame_0122.jpg</td>\n",
       "      <td>office hour</td>\n",
       "    </tr>\n",
       "    <tr>\n",
       "      <th>301</th>\n",
       "      <td>89.382860</td>\n",
       "      <td>70.110286</td>\n",
       "      <td>62.665534</td>\n",
       "      <td>frames\\frame_0302.jpg</td>\n",
       "      <td>office hour</td>\n",
       "    </tr>\n",
       "    <tr>\n",
       "      <th>294</th>\n",
       "      <td>90.011541</td>\n",
       "      <td>70.339766</td>\n",
       "      <td>63.319740</td>\n",
       "      <td>frames\\frame_0295.jpg</td>\n",
       "      <td>office hour</td>\n",
       "    </tr>\n",
       "    <tr>\n",
       "      <th>131</th>\n",
       "      <td>87.254870</td>\n",
       "      <td>67.507188</td>\n",
       "      <td>60.424058</td>\n",
       "      <td>frames\\frame_0132.jpg</td>\n",
       "      <td>office hour</td>\n",
       "    </tr>\n",
       "    <tr>\n",
       "      <th>169</th>\n",
       "      <td>90.121641</td>\n",
       "      <td>70.037899</td>\n",
       "      <td>62.148294</td>\n",
       "      <td>frames\\frame_0170.jpg</td>\n",
       "      <td>office hour</td>\n",
       "    </tr>\n",
       "    <tr>\n",
       "      <th>152</th>\n",
       "      <td>230.118242</td>\n",
       "      <td>229.249644</td>\n",
       "      <td>226.898051</td>\n",
       "      <td>frames\\frame_0153.jpg</td>\n",
       "      <td>notebook</td>\n",
       "    </tr>\n",
       "    <tr>\n",
       "      <th>80</th>\n",
       "      <td>230.721385</td>\n",
       "      <td>229.915091</td>\n",
       "      <td>230.483030</td>\n",
       "      <td>frames\\frame_0081.jpg</td>\n",
       "      <td>notebook</td>\n",
       "    </tr>\n",
       "    <tr>\n",
       "      <th>1</th>\n",
       "      <td>88.697865</td>\n",
       "      <td>67.453529</td>\n",
       "      <td>60.475660</td>\n",
       "      <td>frames\\frame_0002.jpg</td>\n",
       "      <td>office hour</td>\n",
       "    </tr>\n",
       "    <tr>\n",
       "      <th>288</th>\n",
       "      <td>241.932990</td>\n",
       "      <td>240.723173</td>\n",
       "      <td>239.471111</td>\n",
       "      <td>frames\\frame_0289.jpg</td>\n",
       "      <td>notebook</td>\n",
       "    </tr>\n",
       "    <tr>\n",
       "      <th>197</th>\n",
       "      <td>238.683503</td>\n",
       "      <td>237.989249</td>\n",
       "      <td>235.640690</td>\n",
       "      <td>frames\\frame_0198.jpg</td>\n",
       "      <td>notebook</td>\n",
       "    </tr>\n",
       "    <tr>\n",
       "      <th>279</th>\n",
       "      <td>243.225564</td>\n",
       "      <td>242.176402</td>\n",
       "      <td>240.907209</td>\n",
       "      <td>frames\\frame_0280.jpg</td>\n",
       "      <td>notebook</td>\n",
       "    </tr>\n",
       "    <tr>\n",
       "      <th>304</th>\n",
       "      <td>89.183216</td>\n",
       "      <td>69.996150</td>\n",
       "      <td>62.738594</td>\n",
       "      <td>frames\\frame_0305.jpg</td>\n",
       "      <td>office hour</td>\n",
       "    </tr>\n",
       "    <tr>\n",
       "      <th>42</th>\n",
       "      <td>233.114714</td>\n",
       "      <td>232.519796</td>\n",
       "      <td>232.737435</td>\n",
       "      <td>frames\\frame_0043.jpg</td>\n",
       "      <td>notebook</td>\n",
       "    </tr>\n",
       "    <tr>\n",
       "      <th>198</th>\n",
       "      <td>238.580994</td>\n",
       "      <td>237.763281</td>\n",
       "      <td>235.496502</td>\n",
       "      <td>frames\\frame_0199.jpg</td>\n",
       "      <td>notebook</td>\n",
       "    </tr>\n",
       "  </tbody>\n",
       "</table>\n",
       "</div>"
      ],
      "text/plain": [
       "              r           g           b                  frame        scene\n",
       "316  233.539870   66.995486   47.766740  frames\\frame_0317.jpg  office hour\n",
       "303   90.062201   70.626554   63.144909  frames\\frame_0304.jpg  office hour\n",
       "270  243.563937  242.652452  241.196849  frames\\frame_0271.jpg     notebook\n",
       "292  242.170039  241.025152  239.725022  frames\\frame_0293.jpg     notebook\n",
       "221  244.537031  243.870859  242.090972  frames\\frame_0222.jpg     notebook\n",
       "177  232.595569  231.870260  229.682127  frames\\frame_0178.jpg     notebook\n",
       "121   88.056259   68.120924   60.819306  frames\\frame_0122.jpg  office hour\n",
       "301   89.382860   70.110286   62.665534  frames\\frame_0302.jpg  office hour\n",
       "294   90.011541   70.339766   63.319740  frames\\frame_0295.jpg  office hour\n",
       "131   87.254870   67.507188   60.424058  frames\\frame_0132.jpg  office hour\n",
       "169   90.121641   70.037899   62.148294  frames\\frame_0170.jpg  office hour\n",
       "152  230.118242  229.249644  226.898051  frames\\frame_0153.jpg     notebook\n",
       "80   230.721385  229.915091  230.483030  frames\\frame_0081.jpg     notebook\n",
       "1     88.697865   67.453529   60.475660  frames\\frame_0002.jpg  office hour\n",
       "288  241.932990  240.723173  239.471111  frames\\frame_0289.jpg     notebook\n",
       "197  238.683503  237.989249  235.640690  frames\\frame_0198.jpg     notebook\n",
       "279  243.225564  242.176402  240.907209  frames\\frame_0280.jpg     notebook\n",
       "304   89.183216   69.996150   62.738594  frames\\frame_0305.jpg  office hour\n",
       "42   233.114714  232.519796  232.737435  frames\\frame_0043.jpg     notebook\n",
       "198  238.580994  237.763281  235.496502  frames\\frame_0199.jpg     notebook"
      ]
     },
     "execution_count": 34,
     "metadata": {},
     "output_type": "execute_result"
    }
   ],
   "source": [
    "# The following cell runs your `classifyFrame` classifier on every frame and adds a new column `scene`:\n",
    "df[\"scene\"] = df.apply(lambda row: classifyFrame(row.r, row.g, row.b), axis=1)\n",
    "df.sample(20)"
   ]
  },
  {
   "attachments": {},
   "cell_type": "markdown",
   "metadata": {},
   "source": [
    "### Observing Your Results\n",
    "\n",
    "In the next four cells, we display a frame and you'll run code to check what your classifier classified the frame as being!  Make sure to run the code for each frame.\n",
    "- If your classier is off, you will need to update your `classifyFrame` function and re-run both the `classifyFrame` cella and the cell at the top of this section to generate a enw **scene** classification for each image.\n",
    "- It may take several attempts to get this correct, building an AI can be difficult!"
   ]
  },
  {
   "attachments": {},
   "cell_type": "markdown",
   "metadata": {},
   "source": [
    "### Frame #0001: Office Hours"
   ]
  },
  {
   "cell_type": "code",
   "execution_count": 35,
   "metadata": {},
   "outputs": [
    {
     "data": {
      "text/html": [
       "<div>\n",
       "<style scoped>\n",
       "    .dataframe tbody tr th:only-of-type {\n",
       "        vertical-align: middle;\n",
       "    }\n",
       "\n",
       "    .dataframe tbody tr th {\n",
       "        vertical-align: top;\n",
       "    }\n",
       "\n",
       "    .dataframe thead th {\n",
       "        text-align: right;\n",
       "    }\n",
       "</style>\n",
       "<table border=\"1\" class=\"dataframe\">\n",
       "  <thead>\n",
       "    <tr style=\"text-align: right;\">\n",
       "      <th></th>\n",
       "      <th>r</th>\n",
       "      <th>g</th>\n",
       "      <th>b</th>\n",
       "      <th>frame</th>\n",
       "      <th>scene</th>\n",
       "    </tr>\n",
       "  </thead>\n",
       "  <tbody>\n",
       "    <tr>\n",
       "      <th>0</th>\n",
       "      <td>88.659175</td>\n",
       "      <td>67.456202</td>\n",
       "      <td>60.424978</td>\n",
       "      <td>frames\\frame_0001.jpg</td>\n",
       "      <td>office hour</td>\n",
       "    </tr>\n",
       "  </tbody>\n",
       "</table>\n",
       "</div>"
      ],
      "text/plain": [
       "           r          g          b                  frame        scene\n",
       "0  88.659175  67.456202  60.424978  frames\\frame_0001.jpg  office hour"
      ]
     },
     "execution_count": 35,
     "metadata": {},
     "output_type": "execute_result"
    }
   ],
   "source": [
    "df[ df.frame.str.endswith(\"0001.jpg\") ]"
   ]
  },
  {
   "attachments": {},
   "cell_type": "markdown",
   "metadata": {},
   "source": [
    "![Frame 0001](frames/frame_0001.jpg)"
   ]
  },
  {
   "attachments": {},
   "cell_type": "markdown",
   "metadata": {},
   "source": [
    "### Frame #0081: Notebook"
   ]
  },
  {
   "cell_type": "code",
   "execution_count": 36,
   "metadata": {},
   "outputs": [
    {
     "data": {
      "text/html": [
       "<div>\n",
       "<style scoped>\n",
       "    .dataframe tbody tr th:only-of-type {\n",
       "        vertical-align: middle;\n",
       "    }\n",
       "\n",
       "    .dataframe tbody tr th {\n",
       "        vertical-align: top;\n",
       "    }\n",
       "\n",
       "    .dataframe thead th {\n",
       "        text-align: right;\n",
       "    }\n",
       "</style>\n",
       "<table border=\"1\" class=\"dataframe\">\n",
       "  <thead>\n",
       "    <tr style=\"text-align: right;\">\n",
       "      <th></th>\n",
       "      <th>r</th>\n",
       "      <th>g</th>\n",
       "      <th>b</th>\n",
       "      <th>frame</th>\n",
       "      <th>scene</th>\n",
       "    </tr>\n",
       "  </thead>\n",
       "  <tbody>\n",
       "    <tr>\n",
       "      <th>80</th>\n",
       "      <td>230.721385</td>\n",
       "      <td>229.915091</td>\n",
       "      <td>230.48303</td>\n",
       "      <td>frames\\frame_0081.jpg</td>\n",
       "      <td>notebook</td>\n",
       "    </tr>\n",
       "  </tbody>\n",
       "</table>\n",
       "</div>"
      ],
      "text/plain": [
       "             r           g          b                  frame     scene\n",
       "80  230.721385  229.915091  230.48303  frames\\frame_0081.jpg  notebook"
      ]
     },
     "execution_count": 36,
     "metadata": {},
     "output_type": "execute_result"
    }
   ],
   "source": [
    "df[ df.frame.str.endswith(\"0081.jpg\") ]"
   ]
  },
  {
   "attachments": {},
   "cell_type": "markdown",
   "metadata": {},
   "source": [
    "![Frame 0001](frames/frame_0081.jpg)"
   ]
  },
  {
   "attachments": {},
   "cell_type": "markdown",
   "metadata": {},
   "source": [
    "### Frame #0191: Notebook"
   ]
  },
  {
   "cell_type": "code",
   "execution_count": 37,
   "metadata": {},
   "outputs": [
    {
     "data": {
      "text/html": [
       "<div>\n",
       "<style scoped>\n",
       "    .dataframe tbody tr th:only-of-type {\n",
       "        vertical-align: middle;\n",
       "    }\n",
       "\n",
       "    .dataframe tbody tr th {\n",
       "        vertical-align: top;\n",
       "    }\n",
       "\n",
       "    .dataframe thead th {\n",
       "        text-align: right;\n",
       "    }\n",
       "</style>\n",
       "<table border=\"1\" class=\"dataframe\">\n",
       "  <thead>\n",
       "    <tr style=\"text-align: right;\">\n",
       "      <th></th>\n",
       "      <th>r</th>\n",
       "      <th>g</th>\n",
       "      <th>b</th>\n",
       "      <th>frame</th>\n",
       "      <th>scene</th>\n",
       "    </tr>\n",
       "  </thead>\n",
       "  <tbody>\n",
       "    <tr>\n",
       "      <th>190</th>\n",
       "      <td>233.117088</td>\n",
       "      <td>232.354644</td>\n",
       "      <td>230.103359</td>\n",
       "      <td>frames\\frame_0191.jpg</td>\n",
       "      <td>notebook</td>\n",
       "    </tr>\n",
       "  </tbody>\n",
       "</table>\n",
       "</div>"
      ],
      "text/plain": [
       "              r           g           b                  frame     scene\n",
       "190  233.117088  232.354644  230.103359  frames\\frame_0191.jpg  notebook"
      ]
     },
     "execution_count": 37,
     "metadata": {},
     "output_type": "execute_result"
    }
   ],
   "source": [
    "df[ df.frame.str.endswith(\"0191.jpg\") ]"
   ]
  },
  {
   "attachments": {},
   "cell_type": "markdown",
   "metadata": {},
   "source": [
    "![Frame 0001](frames/frame_0191.jpg)"
   ]
  },
  {
   "attachments": {},
   "cell_type": "markdown",
   "metadata": {},
   "source": [
    "### Frame #0306: Office Hours"
   ]
  },
  {
   "cell_type": "code",
   "execution_count": 38,
   "metadata": {},
   "outputs": [
    {
     "data": {
      "text/html": [
       "<div>\n",
       "<style scoped>\n",
       "    .dataframe tbody tr th:only-of-type {\n",
       "        vertical-align: middle;\n",
       "    }\n",
       "\n",
       "    .dataframe tbody tr th {\n",
       "        vertical-align: top;\n",
       "    }\n",
       "\n",
       "    .dataframe thead th {\n",
       "        text-align: right;\n",
       "    }\n",
       "</style>\n",
       "<table border=\"1\" class=\"dataframe\">\n",
       "  <thead>\n",
       "    <tr style=\"text-align: right;\">\n",
       "      <th></th>\n",
       "      <th>r</th>\n",
       "      <th>g</th>\n",
       "      <th>b</th>\n",
       "      <th>frame</th>\n",
       "      <th>scene</th>\n",
       "    </tr>\n",
       "  </thead>\n",
       "  <tbody>\n",
       "    <tr>\n",
       "      <th>305</th>\n",
       "      <td>89.403867</td>\n",
       "      <td>70.149223</td>\n",
       "      <td>62.83901</td>\n",
       "      <td>frames\\frame_0306.jpg</td>\n",
       "      <td>office hour</td>\n",
       "    </tr>\n",
       "  </tbody>\n",
       "</table>\n",
       "</div>"
      ],
      "text/plain": [
       "             r          g         b                  frame        scene\n",
       "305  89.403867  70.149223  62.83901  frames\\frame_0306.jpg  office hour"
      ]
     },
     "execution_count": 38,
     "metadata": {},
     "output_type": "execute_result"
    }
   ],
   "source": [
    "df[ df.frame.str.endswith(\"0306.jpg\") ]"
   ]
  },
  {
   "attachments": {},
   "cell_type": "markdown",
   "metadata": {},
   "source": [
    "![Frame 0001](frames/frame_0306.jpg)"
   ]
  },
  {
   "cell_type": "markdown",
   "metadata": {},
   "source": [
    "### Run the \"Part 4\" Test Case:\n"
   ]
  },
  {
   "cell_type": "code",
   "execution_count": 39,
   "metadata": {},
   "outputs": [
    {
     "name": "stdout",
     "output_type": "stream",
     "text": [
      "🎉 All Tests Passed! 🎉\n"
     ]
    }
   ],
   "source": [
    "### TEST CASE for Part 4: Using Your Classifier\n",
    "tada = \"\\N{PARTY POPPER}\"\n",
    "assert(\"scene\" in df)\n",
    "assert(len(df[ df.scene == \"notebook\" ]) > 100), \"Your classifier function misclassified lots of frames. Take another look at how you are classifying `office hour` and `notebook` frames.\"\n",
    "assert(len(df[ df.scene == \"office hour\" ]) > 75), \"Your classifier function misclassified lots of frames. Take another look at how you are classifying `office hour` and `notebook` frames.\"\n",
    "assert(len(df[ df.scene == \"notebook\" ]) + len(df[ df.scene == \"office hour\" ]) == len(df)), \"Your classifier function misclassified lots of frames. Take another look at how you are classifying `office hour` and `notebook` frames.\"\n",
    "assert( len( df[ (df.frame.str.endswith(\"0001.jpg\")) & (df.scene == \"office hour\") ] ) == 1 ), \"Your classifier function misclassified an 'office hours' frame. Take another look at how you are classifying `office hour` and `notebook` frames.\"\n",
    "assert( len( df[ (df.frame.str.endswith(\"0306.jpg\")) & (df.scene == \"office hour\") ] ) == 1 ), \"Your classifier function misclassified an 'office hours' frame. Take another look at how you are classifying `office hour` and `notebook` frames.\"\n",
    "assert( len( df[ (df.frame.str.endswith(\"0081.jpg\")) & (df.scene == \"notebook\") ] ) == 1 ), \"Your classifier function misclassified a 'notebook' frame. Take another look at how you are classifying `office hour` and `notebook` frames.\"\n",
    "assert( len( df[ (df.frame.str.endswith(\"0191.jpg\")) & (df.scene == \"notebook\") ] ) == 1 ), \"Your classifier function misclassified a 'notebook' frame. Take another look at how you are classifying `office hour` and `notebook` frames.\"\n",
    "print(f\"{tada} All Tests Passed! {tada}\")"
   ]
  },
  {
   "cell_type": "markdown",
   "metadata": {},
   "source": [
    "<hr style=\"color: #DD3403;\">"
   ]
  },
  {
   "cell_type": "markdown",
   "metadata": {},
   "source": [
    "## Part 5: Improve Your Classifier\n",
    "\n",
    "There are some frames that are neither the `office hour` nor the `notebook`.  How did your classifier do?\n",
    "\n",
    "Run the following cells to see how you classified some unexpected frames:\n",
    "\n",
    "### Frame #0320: Data Science Duo Logo???\n",
    "\n",
    "What did you classify the DUO logo as?  It's neither one, but we don't have that option!"
   ]
  },
  {
   "cell_type": "code",
   "execution_count": 40,
   "metadata": {},
   "outputs": [
    {
     "data": {
      "text/html": [
       "<div>\n",
       "<style scoped>\n",
       "    .dataframe tbody tr th:only-of-type {\n",
       "        vertical-align: middle;\n",
       "    }\n",
       "\n",
       "    .dataframe tbody tr th {\n",
       "        vertical-align: top;\n",
       "    }\n",
       "\n",
       "    .dataframe thead th {\n",
       "        text-align: right;\n",
       "    }\n",
       "</style>\n",
       "<table border=\"1\" class=\"dataframe\">\n",
       "  <thead>\n",
       "    <tr style=\"text-align: right;\">\n",
       "      <th></th>\n",
       "      <th>r</th>\n",
       "      <th>g</th>\n",
       "      <th>b</th>\n",
       "      <th>frame</th>\n",
       "      <th>scene</th>\n",
       "    </tr>\n",
       "  </thead>\n",
       "  <tbody>\n",
       "    <tr>\n",
       "      <th>319</th>\n",
       "      <td>221.227565</td>\n",
       "      <td>71.838433</td>\n",
       "      <td>54.457305</td>\n",
       "      <td>frames\\frame_0320.jpg</td>\n",
       "      <td>office hour</td>\n",
       "    </tr>\n",
       "  </tbody>\n",
       "</table>\n",
       "</div>"
      ],
      "text/plain": [
       "              r          g          b                  frame        scene\n",
       "319  221.227565  71.838433  54.457305  frames\\frame_0320.jpg  office hour"
      ]
     },
     "execution_count": 40,
     "metadata": {},
     "output_type": "execute_result"
    }
   ],
   "source": [
    "df[ df.frame.str.endswith(\"0320.jpg\") ]"
   ]
  },
  {
   "attachments": {},
   "cell_type": "markdown",
   "metadata": {},
   "source": [
    "![Frame 0001](frames/frame_0320.jpg)"
   ]
  },
  {
   "attachments": {},
   "cell_type": "markdown",
   "metadata": {},
   "source": [
    "### Frame #328: Video Credits\n",
    "\n",
    "What did you classify the video credits as?  It's another tricky one!\n"
   ]
  },
  {
   "cell_type": "code",
   "execution_count": 41,
   "metadata": {},
   "outputs": [
    {
     "data": {
      "text/html": [
       "<div>\n",
       "<style scoped>\n",
       "    .dataframe tbody tr th:only-of-type {\n",
       "        vertical-align: middle;\n",
       "    }\n",
       "\n",
       "    .dataframe tbody tr th {\n",
       "        vertical-align: top;\n",
       "    }\n",
       "\n",
       "    .dataframe thead th {\n",
       "        text-align: right;\n",
       "    }\n",
       "</style>\n",
       "<table border=\"1\" class=\"dataframe\">\n",
       "  <thead>\n",
       "    <tr style=\"text-align: right;\">\n",
       "      <th></th>\n",
       "      <th>r</th>\n",
       "      <th>g</th>\n",
       "      <th>b</th>\n",
       "      <th>frame</th>\n",
       "      <th>scene</th>\n",
       "    </tr>\n",
       "  </thead>\n",
       "  <tbody>\n",
       "    <tr>\n",
       "      <th>327</th>\n",
       "      <td>7.480234</td>\n",
       "      <td>7.481519</td>\n",
       "      <td>7.487826</td>\n",
       "      <td>frames\\frame_0328.jpg</td>\n",
       "      <td>office hour</td>\n",
       "    </tr>\n",
       "  </tbody>\n",
       "</table>\n",
       "</div>"
      ],
      "text/plain": [
       "            r         g         b                  frame        scene\n",
       "327  7.480234  7.481519  7.487826  frames\\frame_0328.jpg  office hour"
      ]
     },
     "execution_count": 41,
     "metadata": {},
     "output_type": "execute_result"
    }
   ],
   "source": [
    "df[ df.frame.str.endswith(\"0328.jpg\") ]"
   ]
  },
  {
   "attachments": {},
   "cell_type": "markdown",
   "metadata": {},
   "source": [
    "![Frame 0328](frames/frame_0328.jpg)"
   ]
  },
  {
   "cell_type": "markdown",
   "metadata": {},
   "source": [
    "### Part 5.1: Building a Second Classifier\n",
    "\n",
    "Create a second classifier -- `classifyFrame2` -- that returns either `\"notebook\"`, `\"office hour\"` or `\"other\"`.  Your classifier should correctly handle the \"Data Science Duo\" (ex: #0320) frames and the \"Credit\" frames (ex: #0328).\n",
    "- Think of what might **uniquely identify these two special frames** that is different than the office hour or notebook scenes.  The average color values displayed with the images above may help you with some ideas.\n",
    "- You must still correctly classify `\"notebook\"` and `\"office hour\"` frames, in addition to classifying `\"other\"` frames\n",
    "- *Hint: It may be helpful to first identify if it's an `\"other\"` since these scenes may be most distinctive.*"
   ]
  },
  {
   "cell_type": "code",
   "execution_count": 56,
   "metadata": {},
   "outputs": [],
   "source": [
    "def classifyFrame2(r, g, b):\n",
    "  # Return either \"office hour\", \"notebook\", or \"other\" based on the values of `r`, `g`, and `b`.\n",
    "  mean = (r+g+b)/3\n",
    "  if mean < 10: #credits\n",
    "    return \"other\"\n",
    "  elif (mean < 130) & (mean > 80): #DUO logo\n",
    "    return \"other\"\n",
    "  elif (mean >= 125 ):\n",
    "    return \"notebook\"\n",
    "  else: return \"office hour\"\n"
   ]
  },
  {
   "attachments": {},
   "cell_type": "markdown",
   "metadata": {},
   "source": [
    "### Part 5.2: Apply your `classifyFrame2` function\n",
    "\n",
    "Using `classifyFrame2`, this code replaces the value in the column `scene` with your `classifyFrame2` classification function.  The output of this cell shows the last frames of the video, which we expect many of the results to be `\"other\"`:"
   ]
  },
  {
   "cell_type": "code",
   "execution_count": null,
   "metadata": {},
   "outputs": [
    {
     "data": {
      "text/html": [
       "<div>\n",
       "<style scoped>\n",
       "    .dataframe tbody tr th:only-of-type {\n",
       "        vertical-align: middle;\n",
       "    }\n",
       "\n",
       "    .dataframe tbody tr th {\n",
       "        vertical-align: top;\n",
       "    }\n",
       "\n",
       "    .dataframe thead th {\n",
       "        text-align: right;\n",
       "    }\n",
       "</style>\n",
       "<table border=\"1\" class=\"dataframe\">\n",
       "  <thead>\n",
       "    <tr style=\"text-align: right;\">\n",
       "      <th></th>\n",
       "      <th>r</th>\n",
       "      <th>g</th>\n",
       "      <th>b</th>\n",
       "      <th>frame</th>\n",
       "      <th>scene</th>\n",
       "    </tr>\n",
       "  </thead>\n",
       "  <tbody>\n",
       "    <tr>\n",
       "      <th>0</th>\n",
       "      <td>88.659175</td>\n",
       "      <td>67.456202</td>\n",
       "      <td>60.424978</td>\n",
       "      <td>frames\\frame_0001.jpg</td>\n",
       "      <td>office hour</td>\n",
       "    </tr>\n",
       "    <tr>\n",
       "      <th>1</th>\n",
       "      <td>88.697865</td>\n",
       "      <td>67.453529</td>\n",
       "      <td>60.475660</td>\n",
       "      <td>frames\\frame_0002.jpg</td>\n",
       "      <td>office hour</td>\n",
       "    </tr>\n",
       "    <tr>\n",
       "      <th>2</th>\n",
       "      <td>88.028351</td>\n",
       "      <td>66.913845</td>\n",
       "      <td>60.064592</td>\n",
       "      <td>frames\\frame_0003.jpg</td>\n",
       "      <td>office hour</td>\n",
       "    </tr>\n",
       "    <tr>\n",
       "      <th>3</th>\n",
       "      <td>88.825629</td>\n",
       "      <td>67.340347</td>\n",
       "      <td>60.491645</td>\n",
       "      <td>frames\\frame_0004.jpg</td>\n",
       "      <td>office hour</td>\n",
       "    </tr>\n",
       "    <tr>\n",
       "      <th>4</th>\n",
       "      <td>88.211714</td>\n",
       "      <td>66.979661</td>\n",
       "      <td>59.983173</td>\n",
       "      <td>frames\\frame_0005.jpg</td>\n",
       "      <td>office hour</td>\n",
       "    </tr>\n",
       "    <tr>\n",
       "      <th>5</th>\n",
       "      <td>181.087739</td>\n",
       "      <td>52.186936</td>\n",
       "      <td>37.745208</td>\n",
       "      <td>frames\\frame_0006.jpg</td>\n",
       "      <td>other</td>\n",
       "    </tr>\n",
       "    <tr>\n",
       "      <th>6</th>\n",
       "      <td>180.672951</td>\n",
       "      <td>52.104644</td>\n",
       "      <td>37.659015</td>\n",
       "      <td>frames\\frame_0007.jpg</td>\n",
       "      <td>other</td>\n",
       "    </tr>\n",
       "    <tr>\n",
       "      <th>7</th>\n",
       "      <td>180.616185</td>\n",
       "      <td>52.125681</td>\n",
       "      <td>37.592253</td>\n",
       "      <td>frames\\frame_0008.jpg</td>\n",
       "      <td>other</td>\n",
       "    </tr>\n",
       "    <tr>\n",
       "      <th>8</th>\n",
       "      <td>88.963446</td>\n",
       "      <td>66.552773</td>\n",
       "      <td>59.458294</td>\n",
       "      <td>frames\\frame_0009.jpg</td>\n",
       "      <td>office hour</td>\n",
       "    </tr>\n",
       "    <tr>\n",
       "      <th>9</th>\n",
       "      <td>108.020807</td>\n",
       "      <td>53.174227</td>\n",
       "      <td>44.903989</td>\n",
       "      <td>frames\\frame_0010.jpg</td>\n",
       "      <td>office hour</td>\n",
       "    </tr>\n",
       "    <tr>\n",
       "      <th>10</th>\n",
       "      <td>106.510043</td>\n",
       "      <td>53.178854</td>\n",
       "      <td>44.992795</td>\n",
       "      <td>frames\\frame_0011.jpg</td>\n",
       "      <td>office hour</td>\n",
       "    </tr>\n",
       "    <tr>\n",
       "      <th>11</th>\n",
       "      <td>106.565577</td>\n",
       "      <td>53.084271</td>\n",
       "      <td>45.153090</td>\n",
       "      <td>frames\\frame_0012.jpg</td>\n",
       "      <td>office hour</td>\n",
       "    </tr>\n",
       "    <tr>\n",
       "      <th>12</th>\n",
       "      <td>106.535226</td>\n",
       "      <td>52.983685</td>\n",
       "      <td>45.031502</td>\n",
       "      <td>frames\\frame_0013.jpg</td>\n",
       "      <td>office hour</td>\n",
       "    </tr>\n",
       "    <tr>\n",
       "      <th>13</th>\n",
       "      <td>107.287148</td>\n",
       "      <td>53.664076</td>\n",
       "      <td>45.780673</td>\n",
       "      <td>frames\\frame_0014.jpg</td>\n",
       "      <td>office hour</td>\n",
       "    </tr>\n",
       "    <tr>\n",
       "      <th>14</th>\n",
       "      <td>106.867882</td>\n",
       "      <td>53.494240</td>\n",
       "      <td>45.379852</td>\n",
       "      <td>frames\\frame_0015.jpg</td>\n",
       "      <td>office hour</td>\n",
       "    </tr>\n",
       "    <tr>\n",
       "      <th>15</th>\n",
       "      <td>106.216827</td>\n",
       "      <td>52.878997</td>\n",
       "      <td>44.989566</td>\n",
       "      <td>frames\\frame_0016.jpg</td>\n",
       "      <td>office hour</td>\n",
       "    </tr>\n",
       "    <tr>\n",
       "      <th>16</th>\n",
       "      <td>108.083845</td>\n",
       "      <td>53.682270</td>\n",
       "      <td>45.474601</td>\n",
       "      <td>frames\\frame_0017.jpg</td>\n",
       "      <td>office hour</td>\n",
       "    </tr>\n",
       "    <tr>\n",
       "      <th>17</th>\n",
       "      <td>90.887626</td>\n",
       "      <td>65.819722</td>\n",
       "      <td>58.584336</td>\n",
       "      <td>frames\\frame_0018.jpg</td>\n",
       "      <td>office hour</td>\n",
       "    </tr>\n",
       "    <tr>\n",
       "      <th>18</th>\n",
       "      <td>88.007270</td>\n",
       "      <td>67.002426</td>\n",
       "      <td>59.679549</td>\n",
       "      <td>frames\\frame_0019.jpg</td>\n",
       "      <td>office hour</td>\n",
       "    </tr>\n",
       "    <tr>\n",
       "      <th>19</th>\n",
       "      <td>87.650078</td>\n",
       "      <td>66.533685</td>\n",
       "      <td>59.362396</td>\n",
       "      <td>frames\\frame_0020.jpg</td>\n",
       "      <td>office hour</td>\n",
       "    </tr>\n",
       "  </tbody>\n",
       "</table>\n",
       "</div>"
      ],
      "text/plain": [
       "             r          g          b                  frame        scene\n",
       "0    88.659175  67.456202  60.424978  frames\\frame_0001.jpg  office hour\n",
       "1    88.697865  67.453529  60.475660  frames\\frame_0002.jpg  office hour\n",
       "2    88.028351  66.913845  60.064592  frames\\frame_0003.jpg  office hour\n",
       "3    88.825629  67.340347  60.491645  frames\\frame_0004.jpg  office hour\n",
       "4    88.211714  66.979661  59.983173  frames\\frame_0005.jpg  office hour\n",
       "5   181.087739  52.186936  37.745208  frames\\frame_0006.jpg        other\n",
       "6   180.672951  52.104644  37.659015  frames\\frame_0007.jpg        other\n",
       "7   180.616185  52.125681  37.592253  frames\\frame_0008.jpg        other\n",
       "8    88.963446  66.552773  59.458294  frames\\frame_0009.jpg  office hour\n",
       "9   108.020807  53.174227  44.903989  frames\\frame_0010.jpg  office hour\n",
       "10  106.510043  53.178854  44.992795  frames\\frame_0011.jpg  office hour\n",
       "11  106.565577  53.084271  45.153090  frames\\frame_0012.jpg  office hour\n",
       "12  106.535226  52.983685  45.031502  frames\\frame_0013.jpg  office hour\n",
       "13  107.287148  53.664076  45.780673  frames\\frame_0014.jpg  office hour\n",
       "14  106.867882  53.494240  45.379852  frames\\frame_0015.jpg  office hour\n",
       "15  106.216827  52.878997  44.989566  frames\\frame_0016.jpg  office hour\n",
       "16  108.083845  53.682270  45.474601  frames\\frame_0017.jpg  office hour\n",
       "17   90.887626  65.819722  58.584336  frames\\frame_0018.jpg  office hour\n",
       "18   88.007270  67.002426  59.679549  frames\\frame_0019.jpg  office hour\n",
       "19   87.650078  66.533685  59.362396  frames\\frame_0020.jpg  office hour"
      ]
     },
     "execution_count": 59,
     "metadata": {},
     "output_type": "execute_result"
    }
   ],
   "source": [
    "df[\"scene\"] = df.apply(lambda row: classifyFrame2(row.r, row.g, row.b), axis=1)\n",
    "df.tail(20)"
   ]
  },
  {
   "attachments": {},
   "cell_type": "markdown",
   "metadata": {},
   "source": [
    "### Test Cases\n",
    "\n",
    "You can re-run the sample image cells earlier in this notebook after running the code in Part 4.2 since we updated the DataFrame using your new classifier.  Remember to update `classifyFrame2` to update your new classifier (not the original one)."
   ]
  },
  {
   "cell_type": "code",
   "execution_count": 58,
   "metadata": {},
   "outputs": [
    {
     "name": "stdout",
     "output_type": "stream",
     "text": [
      "🎉 All Tests Passed! 🎉\n"
     ]
    }
   ],
   "source": [
    "### TEST CASE for Part 5: Update Your Classifier to Account with an Other Category\n",
    "tada = \"\\N{PARTY POPPER}\"\n",
    "assert(\"scene\" in df)\n",
    "assert(len(df[ df.scene == \"notebook\" ]) > 100), \"There should be many frames classified as 'notebook'. There are frames being misclassified.\"\n",
    "assert(len(df[ df.scene == \"office hour\" ]) > 75), \"You should have more frames classified as 'office hour'. There are frames being misclassified.\"\n",
    "assert(len(df[ df.scene == \"other\" ]) >= 15), \"Most of the last 20 frames should be classified as 'other'. Try adjusting the bounds of your classification parameters.\"\n",
    "assert(len(df[ df.scene == \"other\" ]) <= 18)   # Okay to classify the intro screens as well, but not any others.\n",
    "assert(len(df[ df.scene == \"notebook\" ]) + len(df[ df.scene == \"office hour\" ]) + len(df[ df.scene == \"other\" ]) == len(df))\n",
    "assert( len( df[ (df.frame.str.endswith(\"0001.jpg\")) & (df.scene == \"office hour\") ] ) == 1 ), \"Your classifier function misclassified an 'office hours' frame. Take another look at how you are classifying the four frame categories.\"\n",
    "assert( len( df[ (df.frame.str.endswith(\"0306.jpg\")) & (df.scene == \"office hour\") ] ) == 1 ), \"Your classifier function misclassified an 'office hours' frame. Take another look at how you are classifying the four frame categories.\"\n",
    "assert( len( df[ (df.frame.str.endswith(\"0081.jpg\")) & (df.scene == \"notebook\") ] ) == 1 ), \"Your classifier function misclassified a 'notebook' frame. Take another look at how you are classifying the four frame categories.\"\n",
    "assert( len( df[ (df.frame.str.endswith(\"0191.jpg\")) & (df.scene == \"notebook\") ] ) == 1 ), \"Your classifier function misclassified a 'notebook' frame. Take another look at how you are classifying the four frame categories.\"\n",
    "assert( len( df[ (df.frame.str.endswith(\"0317.jpg\")) & (df.scene == \"other\") ] ) == 1 ), \"Your classifier function misclassified an 'other' frame. Take another look at how you are classifying the four frame categories.\"\n",
    "assert( len( df[ (df.frame.str.endswith(\"0325.jpg\")) & (df.scene == \"other\") ] ) == 1 ), \"Your classifier function misclassified an 'other' frame. Take another look at how you are classifying the four frame categories.\"\n",
    "assert( len( df[ (df.frame.str.endswith(\"0328.jpg\")) & (df.scene == \"other\") ] ) == 1 ), \"Your classifier function misclassified an 'other' frame. Take another look at how you are classifying the four frame categories.\"\n",
    "print(f\"{tada} All Tests Passed! {tada}\")"
   ]
  },
  {
   "attachments": {},
   "cell_type": "markdown",
   "metadata": {},
   "source": [
    "<hr style=\"color: #DD3403;\">"
   ]
  },
  {
   "cell_type": "markdown",
   "metadata": {},
   "source": [
    "<hr style=\"color: #DD3403;\">"
   ]
  },
  {
   "cell_type": "markdown",
   "metadata": {},
   "source": [
    "## Publish you work to your GitHub\n",
    "\n",
    "1.  ⚠️ **Make sure to save your work.** ⚠️ To do this, go to **File => Save All** or press **Crtl + S** on your keyboard. \n",
    "2.  After you have saved, exit this notebook and locate this file in your Module 6 folder. Move this file to your cloned GitHub repository folder which should be inside of the folder you created with your First and Last name. \n",
    "3. Open your terminal and change your directory to your cloned GitHub Repository and type in these commands:\n",
    "\n",
    "4. git add -A\n",
    "5. git commit -m \"Any message here\"\n",
    "6. git push"
   ]
  },
  {
   "cell_type": "markdown",
   "metadata": {},
   "source": []
  }
 ],
 "metadata": {
  "kernelspec": {
   "display_name": "Python 3",
   "language": "python",
   "name": "python3"
  },
  "language_info": {
   "codemirror_mode": {
    "name": "ipython",
    "version": 3
   },
   "file_extension": ".py",
   "mimetype": "text/x-python",
   "name": "python",
   "nbconvert_exporter": "python",
   "pygments_lexer": "ipython3",
   "version": "3.13.5"
  }
 },
 "nbformat": 4,
 "nbformat_minor": 2
}
