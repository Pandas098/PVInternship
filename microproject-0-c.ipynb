{
 "cells": [
  {
   "cell_type": "markdown",
   "id": "b2e58da3",
   "metadata": {},
   "source": [
    "<h1 style=\"text-align: center\">\n",
    "<div style=\"color: #DD3403; font-size: 60%\">MicroProject #0</div>\n",
    "<span style=\"\">Introduction to Python </span>\n",
    "\n",
    "</h1>\n",
    "\n",
    "<hr style=\"color: #DD3403;\">"
   ]
  },
  {
   "cell_type": "markdown",
   "id": "b67b0054",
   "metadata": {},
   "source": [
    "This is the first of 5 Microprojects you would attempt during your internship. The main purpose of this Microproject is to get you familiar with how Python operates and how to run the code you write. \n",
    "\n",
    "# Welcome to a Jupyter Notebook!\n",
    "\n",
    "You are in your very first Jupyter Notebook! Notebooks allow us to combine text (like you're reading now) with Python code.  Your Microprojects will be very similar to this notebook. \n",
    "\n",
    "\n",
    "In this Introduction Microproject, you will:\n",
    "\n",
    "- Explore how to navigate and use Jupyter notebooks \n",
    "- Write a few basic Python commands\n",
    "- Learn how to upload your assignment to GitHub using git"
   ]
  },
  {
   "cell_type": "markdown",
   "id": "2846e69d",
   "metadata": {},
   "source": [
    "# 1. Jupyter Notebooks\n",
    "\n",
    "\n",
    "## Types of Cells\n",
    "\n",
    "Jupyter notebooks are organized into rectangular **cells**.  Every **cell** will either be one of either:\n",
    "\n",
    "1. A **Markdown cell**, which contains text instructions (like the cell you are reading now).  **Markdown cells** will have formatted text and will have a white background.\n",
    "2. A **Python cell**, which contains Python code.  **Python cells** (which you will see shortly) will have a gray background and colored text."
   ]
  },
  {
   "cell_type": "markdown",
   "id": "ad279f27",
   "metadata": {},
   "source": [
    "## Editing Cells\n",
    "\n",
    "Every cell can be edited by **double clicking on the cell**.\n",
    "\n",
    "- Double click on this cell right now!\n",
    "- Edit the end of this line and add your name:\n",
    "\n",
    "Once you are finishing editing:\n",
    "\n",
    "- Press **CTRL + ENTER** to exit editing and \"run\" the cell.\n",
    "- Press **SHIFT + ENTER** to exit editing, \"run\" the cell, AND advance to the next cell.\n",
    "- (You can also press \\[▶| Run\\] at the top of the notebook to exit editing (same as SHIFT+ENTER))\n",
    "\n",
    "\"Running\" a Markdown cell will save it and make it part of your notebook.\n"
   ]
  },
  {
   "cell_type": "markdown",
   "id": "e04c2434",
   "metadata": {},
   "source": [
    "## Python Cells\n",
    "\n",
    "Python cells are cells that contain Python code -- the programming language you will mainly use for this internship.  When you \"run\" a Python cell, you will run your snippet of code!\n",
    "\n",
    "Python is a programming language that was designed to be easy and simple to use, and notebooks make it even easier to use.  The most basic operations that a computer can do are simple math.\n",
    "\n",
    "The next cell is your first Python cell, where the computer is asked to compute `5 + 4`:"
   ]
  },
  {
   "cell_type": "code",
   "execution_count": 3,
   "id": "630a3100",
   "metadata": {},
   "outputs": [
    {
     "data": {
      "text/plain": [
       "9"
      ]
     },
     "execution_count": 3,
     "metadata": {},
     "output_type": "execute_result"
    }
   ],
   "source": [
    "5 + 4"
   ]
  },
  {
   "cell_type": "markdown",
   "id": "3b2212b8",
   "metadata": {},
   "source": [
    "Notice above that there are two components to a single Python cell:\n",
    "\n",
    "- **In \\[#\\]:**, which shows the Python code you wrote (ex: `5 + 4` above)\n",
    "- **Out \\[#\\]:**, which shows the output from the Python (ex: `9` above, the answer)\n"
   ]
  },
  {
   "cell_type": "markdown",
   "id": "82e186db",
   "metadata": {},
   "source": [
    "### Puzzle 1.1:\n",
    "\n",
    "In the next cell, use Python to compute the sum of `4` and `11`.\n",
    "\n",
    "- Remember to double click to edit the cell.\n",
    "- Also remember that you can use **SHIFT + ENTER** to exit and run the cell."
   ]
  },
  {
   "cell_type": "code",
   "execution_count": 2,
   "id": "acd36893",
   "metadata": {},
   "outputs": [
    {
     "data": {
      "text/plain": [
       "15"
      ]
     },
     "execution_count": 2,
     "metadata": {},
     "output_type": "execute_result"
    }
   ],
   "source": [
    "4 + 11"
   ]
  },
  {
   "cell_type": "markdown",
   "id": "11c99481",
   "metadata": {},
   "source": [
    "### Puzzle 1.2:\n",
    "\n",
    "In the next cell, use Python to compute the product of the numbers `4` and `5`.\n",
    "- Hint: In Python, the `*` symbol used for multiplication."
   ]
  },
  {
   "cell_type": "code",
   "execution_count": 3,
   "id": "db533eb6",
   "metadata": {},
   "outputs": [
    {
     "data": {
      "text/plain": [
       "20"
      ]
     },
     "execution_count": 3,
     "metadata": {},
     "output_type": "execute_result"
    }
   ],
   "source": [
    "4*5"
   ]
  },
  {
   "cell_type": "markdown",
   "id": "abd18009",
   "metadata": {},
   "source": [
    "### Puzzle 1.3:\n",
    "\n",
    "In addition to addition (`+`), subtraction (`-`), multiplication (`*`), and division (`/`), Python can also raise a number to a power (ex: $2^4$).  The syntax to do this in Python is to use `**`.\n",
    "\n",
    "For example, the Python code for $2^4$ is:"
   ]
  },
  {
   "cell_type": "code",
   "execution_count": 5,
   "id": "f3c770d2",
   "metadata": {},
   "outputs": [
    {
     "data": {
      "text/plain": [
       "16"
      ]
     },
     "execution_count": 5,
     "metadata": {},
     "output_type": "execute_result"
    }
   ],
   "source": [
    "2 ** 4"
   ]
  },
  {
   "cell_type": "markdown",
   "id": "06e898cc",
   "metadata": {},
   "source": [
    "Using everything you know, use the following cell to compute the value of $(3 + 5) * 9^2$"
   ]
  },
  {
   "cell_type": "code",
   "execution_count": 6,
   "id": "9e91c925",
   "metadata": {},
   "outputs": [
    {
     "data": {
      "text/plain": [
       "648"
      ]
     },
     "execution_count": 6,
     "metadata": {},
     "output_type": "execute_result"
    }
   ],
   "source": [
    "(3 + 5) * 9**2"
   ]
  },
  {
   "cell_type": "markdown",
   "id": "f146071b",
   "metadata": {},
   "source": [
    "# 2. Print Statements in Python\n",
    "\n",
    "In all of the previous puzzles, the text in the **Out\\[#\\]** was the result of your Python code.  In a notebook, the notebook will always **automatically print out the result of the last line of Python code**.\n",
    "\n",
    "Because ONLY the last line is automatically printed, what do you expect to happen when the following code is run?\n",
    "\n",
    "Type your answer here: 6\n"
   ]
  },
  {
   "cell_type": "code",
   "execution_count": 7,
   "id": "b5b7ab7a",
   "metadata": {},
   "outputs": [
    {
     "data": {
      "text/plain": [
       "6"
      ]
     },
     "execution_count": 7,
     "metadata": {},
     "output_type": "execute_result"
    }
   ],
   "source": [
    "1 + 1\n",
    "2 + 2\n",
    "3 + 3"
   ]
  },
  {
   "cell_type": "markdown",
   "id": "e0711633",
   "metadata": {},
   "source": [
    "## Using the print() function\n",
    "\n",
    "If you want to print out things that is NOT the result of the last line, Python has a **function** called `print(...)` that will output everything between `(` and `)`.  For example, the same example with `print()`:"
   ]
  },
  {
   "cell_type": "code",
   "execution_count": 8,
   "id": "30374696",
   "metadata": {},
   "outputs": [
    {
     "name": "stdout",
     "output_type": "stream",
     "text": [
      "2\n",
      "4\n",
      "6\n"
     ]
    }
   ],
   "source": [
    "print( 1 + 1 )\n",
    "print( 2 + 2 )\n",
    "print( 3 + 3 )"
   ]
  },
  {
   "cell_type": "markdown",
   "id": "60ddef14",
   "metadata": {},
   "source": [
    "### Using Strings\n",
    "\n",
    "In Python, we often want to print out more than just numbers.  If you want to print words out, Python requires that **strings** are in quotes.  One of the most simple programs is a program that prints `\"Hello World\"` (notice the quotes)!\n",
    "\n",
    "The following `print()` command does exactly that:"
   ]
  },
  {
   "cell_type": "code",
   "execution_count": 7,
   "id": "27b528fc",
   "metadata": {},
   "outputs": [
    {
     "name": "stdout",
     "output_type": "stream",
     "text": [
      "Hello World\n"
     ]
    }
   ],
   "source": [
    "print(\"Hello World\")"
   ]
  },
  {
   "cell_type": "markdown",
   "id": "38b91b22",
   "metadata": {},
   "source": [
    "Notice that the quotes **do not appear in the output**.  Instead, Python uses the quotes to know that the contents inside of the quotes are a  **string**.\n",
    "\n",
    "If you forget to add the quotes, Python will provide an error message (often known as invalid syntax):"
   ]
  },
  {
   "cell_type": "code",
   "execution_count": 9,
   "id": "d9e9fb56",
   "metadata": {},
   "outputs": [
    {
     "name": "stdout",
     "output_type": "stream",
     "text": [
      "Hello World\n"
     ]
    }
   ],
   "source": [
    "print(\"Hello World\")"
   ]
  },
  {
   "cell_type": "markdown",
   "id": "a21ad36a",
   "metadata": {},
   "source": [
    "Errors happen all the time, don't worry if you make a mistake and forget a syntax. Python will try its best to however give you a suggestion to fix that mistake."
   ]
  },
  {
   "cell_type": "markdown",
   "id": "0ca42942",
   "metadata": {},
   "source": [
    "### Puzzle 2.1:\n",
    "\n",
    "Using the `print()` function, print your name in the output of the next cell:"
   ]
  },
  {
   "cell_type": "code",
   "execution_count": 10,
   "id": "edf5b5b0",
   "metadata": {},
   "outputs": [
    {
     "name": "stdout",
     "output_type": "stream",
     "text": [
      "Andrew Liang\n"
     ]
    }
   ],
   "source": [
    "print('Andrew Liang')"
   ]
  },
  {
   "cell_type": "markdown",
   "id": "a6c8db28",
   "metadata": {},
   "source": [
    "### Puzzle 2.2:\n",
    "\n",
    "Using the `print()` function, print the **result** of the following three things on separate lines:\n",
    "- $(4 * 3)^2$\n",
    "- Project: VISION\n",
    "- $8 - 3$"
   ]
  },
  {
   "cell_type": "code",
   "execution_count": 11,
   "id": "d8533565",
   "metadata": {},
   "outputs": [
    {
     "name": "stdout",
     "output_type": "stream",
     "text": [
      "144\n",
      "Project: VISION\n",
      "5\n"
     ]
    }
   ],
   "source": [
    "print((4*3)**2)\n",
    "print(\"Project: VISION\")\n",
    "print(8-3)"
   ]
  },
  {
   "cell_type": "markdown",
   "id": "8a9356bc",
   "metadata": {},
   "source": [
    "# 3. Names in Python\n",
    "*This section has been adopted from Berkeley's Data8: Lab \\#1 from Spring 2017*\n",
    "\n",
    "In natural language, we have terminology that lets us quickly reference very complicated concepts. We don't say, \"That's a large slow mammal with brown fur and three toes!\" Instead, we just say, \"SLOTH!\"\n",
    "\n",
    "Similarly, an effective strategy for writing code is to define names for data as we compute it, like a lawyer would define terms for complex ideas at the start of a legal document to simplify the rest of the writing.\n",
    "\n",
    "In Python, we do this with assignment statements. An assignment statement has a name on the left side of an `=` sign and an expression to be evaluated on the right."
   ]
  },
  {
   "cell_type": "code",
   "execution_count": null,
   "id": "b3c3d2be",
   "metadata": {},
   "outputs": [],
   "source": [
    "ten = 3 + 2 + 5"
   ]
  },
  {
   "cell_type": "markdown",
   "id": "15f4973a",
   "metadata": {},
   "source": [
    "When you run that cell, Python first evaluates the first line. It computes the value of the expression `3 * 2 + 4`, which is the number 10. Then it gives that value the name `ten`. At that point, the code in the cell is done running.\n",
    "\n",
    "After you run that cell, the value 10 is bound to the name `ten`:"
   ]
  },
  {
   "cell_type": "code",
   "execution_count": null,
   "id": "2513bff4",
   "metadata": {},
   "outputs": [
    {
     "data": {
      "text/plain": [
       "10"
      ]
     },
     "execution_count": 11,
     "metadata": {},
     "output_type": "execute_result"
    }
   ],
   "source": [
    "ten"
   ]
  },
  {
   "cell_type": "markdown",
   "id": "0c332dd8",
   "metadata": {},
   "source": [
    "The statement `ten = 3 * 2 + 4` is not asserting that ten is already equal to `3 * 2 + 4`, as we might expect by analogy with math notation. Rather, that line of code changes what `ten` means; it now refers to the value 10, whereas before it meant nothing at all."
   ]
  },
  {
   "cell_type": "markdown",
   "id": "68d1b3d8",
   "metadata": {},
   "source": [
    "### Question 3.1.\n",
    "\n",
    "Try writing code that uses a name (like `eleven`) that hasn't been assigned to anything.\n",
    "\n",
    "* You should see an **ERROR** -- this is expected."
   ]
  },
  {
   "cell_type": "code",
   "execution_count": null,
   "id": "d62b6ad1",
   "metadata": {},
   "outputs": [
    {
     "ename": "NameError",
     "evalue": "name 'eleven' is not defined",
     "output_type": "error",
     "traceback": [
      "\u001b[1;31m---------------------------------------------------------------------------\u001b[0m",
      "\u001b[1;31mNameError\u001b[0m                                 Traceback (most recent call last)",
      "Cell \u001b[1;32mIn[13], line 1\u001b[0m\n\u001b[1;32m----> 1\u001b[0m \u001b[43meleven\u001b[49m\n",
      "\u001b[1;31mNameError\u001b[0m: name 'eleven' is not defined"
     ]
    }
   ],
   "source": [
    "eleven = 11"
   ]
  },
  {
   "cell_type": "markdown",
   "id": "929282eb",
   "metadata": {},
   "source": [
    "### Question 3.2.\n",
    "\n",
    "Now, define the value of the name that gave you an error:"
   ]
  },
  {
   "cell_type": "code",
   "execution_count": null,
   "id": "0490531d",
   "metadata": {},
   "outputs": [],
   "source": [
    "eleven = 10 + 1"
   ]
  },
  {
   "cell_type": "markdown",
   "id": "5e8d1069",
   "metadata": {},
   "source": [
    "### Question 3.3.\n",
    "\n",
    "Finally, try using that name again:"
   ]
  },
  {
   "cell_type": "code",
   "execution_count": null,
   "id": "e47d18fd",
   "metadata": {},
   "outputs": [
    {
     "data": {
      "text/plain": [
       "11"
      ]
     },
     "execution_count": 17,
     "metadata": {},
     "output_type": "execute_result"
    }
   ],
   "source": [
    "eleven "
   ]
  },
  {
   "cell_type": "markdown",
   "id": "06a82626",
   "metadata": {},
   "source": [
    "## Common Patterns with Names:\n",
    "\n",
    "A common pattern in Jupyter notebooks is to assign a value to a name and then immediately evaluate the name in the last line in the cell so that the value is displayed as output:"
   ]
  },
  {
   "cell_type": "code",
   "execution_count": null,
   "id": "03dc487b",
   "metadata": {},
   "outputs": [
    {
     "data": {
      "text/plain": [
       "3.1415929203539825"
      ]
     },
     "execution_count": 18,
     "metadata": {},
     "output_type": "execute_result"
    }
   ],
   "source": [
    "close_to_pi = 355/113\n",
    "close_to_pi"
   ]
  },
  {
   "cell_type": "markdown",
   "id": "468b49a2",
   "metadata": {},
   "source": [
    "Another common pattern is that a series of lines in a single cell will build up a complex computation in stages, naming the intermediate results."
   ]
  },
  {
   "cell_type": "code",
   "execution_count": null,
   "id": "68031452",
   "metadata": {},
   "outputs": [
    {
     "data": {
      "text/plain": [
       "20160"
      ]
     },
     "execution_count": 19,
     "metadata": {},
     "output_type": "execute_result"
    }
   ],
   "source": [
    "paycheck = 840\n",
    "monthly_salary = 2 * paycheck\n",
    "number_of_months_in_a_year = 12\n",
    "yearly_salary = number_of_months_in_a_year * monthly_salary\n",
    "yearly_salary"
   ]
  },
  {
   "cell_type": "markdown",
   "id": "fe0a61f2",
   "metadata": {},
   "source": [
    "Names in Python can have letters (upper- and lower-case letters are both okay and count as different letters), underscores, and numbers. The first character can't be a number (otherwise a name might look like a number). And names can't contain spaces, since spaces are used to separate pieces of code from each other.\n",
    "\n",
    "Other than those rules, what you name something doesn't matter to Python. For example, this cell does the same thing as the above cell, except everything has a different name:"
   ]
  },
  {
   "cell_type": "code",
   "execution_count": null,
   "id": "7f4e9712",
   "metadata": {},
   "outputs": [
    {
     "data": {
      "text/plain": [
       "20160"
      ]
     },
     "execution_count": 20,
     "metadata": {},
     "output_type": "execute_result"
    }
   ],
   "source": [
    "a = 840\n",
    "b = 2 * a\n",
    "c = 12\n",
    "d = c * b\n",
    "d"
   ]
  },
  {
   "cell_type": "markdown",
   "id": "d542dca6",
   "metadata": {},
   "source": [
    "**However**, names are very important for making your code readable to yourself and others. The cell above is shorter, but it's totally useless without an explanation of what it does. Food for though, would you rather have the first code snippet or the most recent one? "
   ]
  },
  {
   "cell_type": "markdown",
   "id": "4a538700",
   "metadata": {},
   "source": [
    "### Puzzle 3.4:\n",
    "\n",
    "Assign the name `seconds_in_a_decade` to the number of seconds between midnight January 1, 2010 and midnight January 1, 2020.\n",
    "\n",
    "- You will want to think about how this is computed before you start writing code.  Pencil and paper works great!\n",
    "- Any line of code in Python that begins with an `#` is a comment and is ignored by Python.  We have added some comments to help you out here."
   ]
  },
  {
   "cell_type": "code",
   "execution_count": 12,
   "id": "6836dcb2",
   "metadata": {},
   "outputs": [
    {
     "data": {
      "text/plain": [
       "315360000"
      ]
     },
     "execution_count": 12,
     "metadata": {},
     "output_type": "execute_result"
    }
   ],
   "source": [
    "# Change the next line so that it computes the number of\n",
    "# seconds in a decade and assigns that number the name\n",
    "# seconds_in_a_decade.\n",
    "#\n",
    "# (You may want to add other names to help you calculate\n",
    "# this value.)\n",
    "seconds_in_a_minute=60\n",
    "seconds_in_a_hour = seconds_in_a_minute * 60\n",
    "seconds_in_a_day = seconds_in_a_hour * 24\n",
    "seconds_in_a_year = seconds_in_a_day * 365\n",
    "seconds_in_a_decade = seconds_in_a_year * 10\n",
    "## not including leap years\n",
    "\n",
    "# I've put this line in this cell so that it will print\n",
    "# the value you've given to seconds_in_a_decade when you\n",
    "# run it.  You don't need to change this.\n",
    "seconds_in_a_decade"
   ]
  },
  {
   "cell_type": "markdown",
   "id": "1bbac8e2",
   "metadata": {},
   "source": [
    "## Publish you work to your GitHub\n",
    "\n",
    "1.  ⚠️ **Make sure to save your work.** ⚠️ To do this, go to **File => Save All** or press **Crtl + S** on your keyboard. \n",
    "2.  After you have saved, exit this notebook and locate this file in your working folder. Move this file to your cloned GitHub repository folder which should be inside of the folder you created with your First and Last name. \n",
    "3. Open your terminal and change your directory to your cloned GitHub Repository and type in these commands:\n",
    "\n",
    "4. git add -A\n",
    "5. git commit -m \"Any message here\"\n",
    "6. git push"
   ]
  },
  {
   "cell_type": "markdown",
   "id": "22c63ee3",
   "metadata": {},
   "source": []
  }
 ],
 "metadata": {
  "kernelspec": {
   "display_name": "Python 3",
   "language": "python",
   "name": "python3"
  },
  "language_info": {
   "codemirror_mode": {
    "name": "ipython",
    "version": 3
   },
   "file_extension": ".py",
   "mimetype": "text/x-python",
   "name": "python",
   "nbconvert_exporter": "python",
   "pygments_lexer": "ipython3",
   "version": "3.13.5"
  }
 },
 "nbformat": 4,
 "nbformat_minor": 5
}
