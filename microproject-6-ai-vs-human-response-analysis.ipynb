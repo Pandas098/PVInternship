{
 "cells": [
  {
   "cell_type": "markdown",
   "metadata": {},
   "source": [
    "<h1 style=\"text-align: center\">\n",
    "<div style=\"color: #DD3403; font-size: 60%\">MicroProject #6</div>\n",
    "<span style=\"\">AI vs Human: Response Analysis by Wade Fagen-Wlmschneider</span>\n",
    "\n",
    "<hr style=\"color: #DD3403;\">"
   ]
  },
  {
   "cell_type": "markdown",
   "metadata": {},
   "source": [
    "## Data Source: Hugging Face HC3 Dataset\n",
    "\n",
    "[Hugging Face](https://huggingface.co/) is a company that has developed a platform for natural language processing (NLP) applications. They have created and shared a large collection of pre-trained models, datasets, and learning resources which are open-source and available for the public to use.\n",
    "\n",
    "Hello-SimpleAI is a small group of researchers (PhD students and engineers) that released the [HC3 dataset](https://arxiv.org/abs/2301.07597). This dataset compares human responses (from Reddit, Wikipedia, and other sources) and AI responses to the same question, with details available on their GitHub repository ([@Hello-SimpleAI/chatgpt-comparison-detection](https://github.com/Hello-SimpleAI/chatgpt-comparison-detection)) or via the [Hugging Face API](https://huggingface.co/datasets/Hello-SimpleAI/HC3/viewer/all/train).\n",
    "\n",
    "Are responses from AI different from humans? Let's find out. \n",
    "\n",
    "\n",
    "### Background Knowledge\n",
    "\n",
    "To finish this MicroProject, I've assume you already know:\n",
    "\n",
    "- All topics covered in  Module 1: Basics of Data Science with Python ([review the module here](https://discovery.cs.illinois.edu/learn/))\n",
    "- Adding new columns into an existing DataFrame ([review creating new columns here](https://discovery.cs.illinois.edu/guides/Modifying-DataFrames/adding-columns-in-dataframes/))\n",
    "- Working with functions in Python ([review Python functions here](https://discovery.cs.illinois.edu/learn/Simulation-and-Distributions/Functions-in-Python/))\n",
    "- Understanding (and performing) hypothesis tests ([review hypothesis testing here](https://discovery.cs.illinois.edu/learn/Polling-Confidence-Intervals-and-Hypothesis-Testing/Hypothesis-Testing/))\n"
   ]
  },
  {
   "cell_type": "markdown",
   "metadata": {},
   "source": [
    "<hr style=\"color: #DD3403;\">"
   ]
  },
  {
   "cell_type": "markdown",
   "metadata": {},
   "source": [
    "## Part 1: Loading the Dataset\n",
    "\n",
    "For this MicroProject, I have provided the first 100 samples of the `Hello-SampleAI` dataset that was gathered from the following URL: https://datasets-server.huggingface.co/rows?dataset=Hello-SimpleAI%2FHC3&config=all&split=train&offset=0&length=100\n",
    "\n",
    "This data has been **cleaned up and provided to you** as `huggingface-hello-sampleAI-100.csv`.  This dataset has 100 `question`s that were asked and answered on the  \"Explain Like I'm Five\" (ELI5) subreddit, with the `human_answer` from reddit and a `chatgpt_answer` from ChatGPT.\n",
    "\n",
    "Load the cleaned up CSV file dataset as a DataFrame `df`:"
   ]
  },
  {
   "cell_type": "code",
   "execution_count": 2,
   "metadata": {},
   "outputs": [
    {
     "data": {
      "text/html": [
       "<div>\n",
       "<style scoped>\n",
       "    .dataframe tbody tr th:only-of-type {\n",
       "        vertical-align: middle;\n",
       "    }\n",
       "\n",
       "    .dataframe tbody tr th {\n",
       "        vertical-align: top;\n",
       "    }\n",
       "\n",
       "    .dataframe thead th {\n",
       "        text-align: right;\n",
       "    }\n",
       "</style>\n",
       "<table border=\"1\" class=\"dataframe\">\n",
       "  <thead>\n",
       "    <tr style=\"text-align: right;\">\n",
       "      <th></th>\n",
       "      <th>question</th>\n",
       "      <th>human_answer</th>\n",
       "      <th>chatgpt_answer</th>\n",
       "    </tr>\n",
       "  </thead>\n",
       "  <tbody>\n",
       "    <tr>\n",
       "      <th>0</th>\n",
       "      <td>Why is every book I hear about a \" NY Times # ...</td>\n",
       "      <td>Basically there are many categories of \" Best ...</td>\n",
       "      <td>There are many different best seller lists tha...</td>\n",
       "    </tr>\n",
       "    <tr>\n",
       "      <th>1</th>\n",
       "      <td>If salt is so bad for cars , why do we use it ...</td>\n",
       "      <td>salt is good for not dying in car crashes and ...</td>\n",
       "      <td>Salt is used on roads to help melt ice and sno...</td>\n",
       "    </tr>\n",
       "    <tr>\n",
       "      <th>2</th>\n",
       "      <td>Why do we still have SD TV channels when HD lo...</td>\n",
       "      <td>The way it works is that old TV stations got a...</td>\n",
       "      <td>There are a few reasons why we still have SD (...</td>\n",
       "    </tr>\n",
       "    <tr>\n",
       "      <th>3</th>\n",
       "      <td>Why has nobody assassinated Kim Jong - un He i...</td>\n",
       "      <td>You ca n't just go around assassinating the le...</td>\n",
       "      <td>It is generally not acceptable or ethical to a...</td>\n",
       "    </tr>\n",
       "    <tr>\n",
       "      <th>4</th>\n",
       "      <td>How was airplane technology able to advance so...</td>\n",
       "      <td>Wanting to kill the shit out of Germans drives...</td>\n",
       "      <td>After the Wright Brothers made the first power...</td>\n",
       "    </tr>\n",
       "    <tr>\n",
       "      <th>...</th>\n",
       "      <td>...</td>\n",
       "      <td>...</td>\n",
       "      <td>...</td>\n",
       "    </tr>\n",
       "    <tr>\n",
       "      <th>95</th>\n",
       "      <td>How come the Constitution of the US is relevan...</td>\n",
       "      <td>The Constitution is the highest law of the lan...</td>\n",
       "      <td>The Constitution of the United States is the s...</td>\n",
       "    </tr>\n",
       "    <tr>\n",
       "      <th>96</th>\n",
       "      <td>Why does Valve have Greenlight would n't it ma...</td>\n",
       "      <td>Now , There are 2 problems with steam , and bo...</td>\n",
       "      <td>Valve, the company that developed the Steam pl...</td>\n",
       "    </tr>\n",
       "    <tr>\n",
       "      <th>97</th>\n",
       "      <td>why do people so commonly say SO instead of bo...</td>\n",
       "      <td>SO covers boyfriends , girlfriends , husbands ...</td>\n",
       "      <td>People might use the term \"SO\" instead of \"boy...</td>\n",
       "    </tr>\n",
       "    <tr>\n",
       "      <th>98</th>\n",
       "      <td>How do companies that buy &amp; re - sell other pe...</td>\n",
       "      <td>I get that they are \" bottom feeders \" but to ...</td>\n",
       "      <td>When a company or individual owes money to ano...</td>\n",
       "    </tr>\n",
       "    <tr>\n",
       "      <th>99</th>\n",
       "      <td>What is Heisenberg 's uncertainty principle in...</td>\n",
       "      <td>In the simplest terms , anything we do to try ...</td>\n",
       "      <td>Heisenberg's uncertainty principle is a fundam...</td>\n",
       "    </tr>\n",
       "  </tbody>\n",
       "</table>\n",
       "<p>100 rows × 3 columns</p>\n",
       "</div>"
      ],
      "text/plain": [
       "                                             question  \\\n",
       "0   Why is every book I hear about a \" NY Times # ...   \n",
       "1   If salt is so bad for cars , why do we use it ...   \n",
       "2   Why do we still have SD TV channels when HD lo...   \n",
       "3   Why has nobody assassinated Kim Jong - un He i...   \n",
       "4   How was airplane technology able to advance so...   \n",
       "..                                                ...   \n",
       "95  How come the Constitution of the US is relevan...   \n",
       "96  Why does Valve have Greenlight would n't it ma...   \n",
       "97  why do people so commonly say SO instead of bo...   \n",
       "98  How do companies that buy & re - sell other pe...   \n",
       "99  What is Heisenberg 's uncertainty principle in...   \n",
       "\n",
       "                                         human_answer  \\\n",
       "0   Basically there are many categories of \" Best ...   \n",
       "1   salt is good for not dying in car crashes and ...   \n",
       "2   The way it works is that old TV stations got a...   \n",
       "3   You ca n't just go around assassinating the le...   \n",
       "4   Wanting to kill the shit out of Germans drives...   \n",
       "..                                                ...   \n",
       "95  The Constitution is the highest law of the lan...   \n",
       "96  Now , There are 2 problems with steam , and bo...   \n",
       "97  SO covers boyfriends , girlfriends , husbands ...   \n",
       "98  I get that they are \" bottom feeders \" but to ...   \n",
       "99  In the simplest terms , anything we do to try ...   \n",
       "\n",
       "                                       chatgpt_answer  \n",
       "0   There are many different best seller lists tha...  \n",
       "1   Salt is used on roads to help melt ice and sno...  \n",
       "2   There are a few reasons why we still have SD (...  \n",
       "3   It is generally not acceptable or ethical to a...  \n",
       "4   After the Wright Brothers made the first power...  \n",
       "..                                                ...  \n",
       "95  The Constitution of the United States is the s...  \n",
       "96  Valve, the company that developed the Steam pl...  \n",
       "97  People might use the term \"SO\" instead of \"boy...  \n",
       "98  When a company or individual owes money to ano...  \n",
       "99  Heisenberg's uncertainty principle is a fundam...  \n",
       "\n",
       "[100 rows x 3 columns]"
      ]
     },
     "execution_count": 2,
     "metadata": {},
     "output_type": "execute_result"
    }
   ],
   "source": [
    "import pandas as pd\n",
    "\n",
    "df = pd.read_csv(r\"C:\\Users\\WOW\\Downloads\\Module 5 Microproject\\huggingface-hello-sampleAI-100.csv\")\n",
    "df"
   ]
  },
  {
   "cell_type": "markdown",
   "metadata": {},
   "source": [
    "### View Sample Outputs\n",
    "\n",
    "Run the following cell to view a random question and the human and AI answers to get a feeling for this data (run it again to view a different random question).\n",
    "- *Note that this text has already been tokenized, an early step in almost all text analysis that breaks a sentence into the small tokens for further processing, and may have extra spaces not naturally seen outside of NLP.*"
   ]
  },
  {
   "cell_type": "code",
   "execution_count": 3,
   "metadata": {},
   "outputs": [
    {
     "name": "stdout",
     "output_type": "stream",
     "text": [
      "== Question ==\n",
      "What is the purpose of a rubber chicken ? Why do they exist ? Please explain like I'm five.\n",
      "\n",
      "== Human Answer (reddit response) ==\n",
      "In elementary school we played a \" game \" where the teacher tossed his giant chicken down the field and us students on either side had to hit it mid - air with our smaller chickens . I assume this is the destiny of all rubber chickens .\n",
      "\n",
      "== AI Answer (ChatGPT) ==\n",
      "A rubber chicken is a toy that is often used for comedic purposes. It is made of rubber and is shaped like a chicken. People often use rubber chickens as props in jokes or as part of a comedy routine. They might make silly noises or gestures with the rubber chicken to make people laugh. Rubber chickens are also sometimes used as party decorations or given as gifts. They are meant to be fun and silly, and they are not meant to be taken seriously.\n"
     ]
    }
   ],
   "source": [
    "# Run the following cell to view a random question and the Human and AI answers to\n",
    "# get a feeling for this data (run it again to view a different random question).\n",
    "sample = df.sample(n=1)\n",
    "print(\"== Question ==\")\n",
    "print(f\"{sample.question.values[0]}\")\n",
    "print()\n",
    "print(\"== Human Answer (reddit response) ==\")\n",
    "print(f\"{sample.human_answer.values[0]}\")\n",
    "print()\n",
    "print(\"== AI Answer (ChatGPT) ==\")\n",
    "print(f\"{sample.chatgpt_answer.values[0]}\")\n"
   ]
  },
  {
   "cell_type": "code",
   "execution_count": 4,
   "metadata": {},
   "outputs": [
    {
     "name": "stdout",
     "output_type": "stream",
     "text": [
      "🎉 All Tests Passed! 🎉\n"
     ]
    }
   ],
   "source": [
    "### TEST CASE for Part 1: Loading the Dataset\n",
    "# - This read-only cell contains a \"checkpoint\" for this section of the MicroProejct and verifies you are on the right track.\n",
    "# - If this cell results in a celebration message, you PASSED all test cases!\n",
    "# - If this cell results in any errors, check you previous cells, make changes, and RE-RUN your code and then this cell.\n",
    "tada = \"\\N{PARTY POPPER}\"\n",
    "df = df.replace(r'\\r\\n', '\\n', regex=True)\n",
    "assert(\"df\" in vars()), \"Make sure your data is stored in `df`.\"\n",
    "assert(len(df) == 100), \"Your `df` is not the correct length.\"\n",
    "assert(\"How come I have to pay for Foxtel and get ads , when things like youtube are free because they play ads . Should n't Foxtel be you pay and you do nt get ads , or it should be free and you get ads . Please explain like I'm five.\" in df[\"question\"].values)\n",
    "assert(\"It's important to remember that Japan is a country with a rich and diverse culture, and like any other country, it has a range of cultural practices and expressions. While it is true that Japan has a reputation for being a more traditional and conservative culture, it is also home to a vibrant and creative media industry. \\nThe Japanese media industry is known for producing a wide variety of content, including video games, TV shows, and music, that often incorporates elements of Japanese culture and history. This can include things like traditional Japanese instruments and themes, as well as more modern and unconventional elements. \\nIt's also worth noting that different parts of Japanese culture can have different levels of conservatism. For example, some aspects of Japanese culture, such as traditional family structure or gender roles, may be more conservative, while other parts of Japanese culture, such as the media industry, may be more open to experimentation and innovation. \\nOverall, it's important to remember that Japan is a complex and multifaceted culture, and it's not fair to generalize or stereotype all aspects of Japanese culture based on a few specific examples.\" in df[\"chatgpt_answer\"].values)\n",
    "print(f\"{tada} All Tests Passed! {tada}\")"
   ]
  },
  {
   "cell_type": "markdown",
   "metadata": {},
   "source": [
    "<hr style=\"color: #DD3403;\">"
   ]
  },
  {
   "cell_type": "markdown",
   "metadata": {},
   "source": [
    "## Part 2: Response Length Analysis\n",
    "\n",
    "This MicroProject attempts to identify features that may be distinctive between a human response and an AI response.  One common critique of current AI systems are that the answers are often excessively long.  Our first hypothesis to investigate is that an AI response may be longer than a human response.\n",
    "\n",
    "To explore this, we will explore the average length of an AI response and see if there's any statistical significance to the difference from the human response."
   ]
  },
  {
   "cell_type": "markdown",
   "metadata": {},
   "source": [
    "### Part 2.1: Finding the Response Length"
   ]
  },
  {
   "cell_type": "markdown",
   "metadata": {},
   "source": [
    "To perform the analysis of response length, we first need to two new columns in our DataFrame for each of our 100 sample questions.  When working with columns that contain `string` data, we work with the individual strings as data using the following **generic syntax**:\n",
    "\n",
    "> ```py\n",
    "> df[\"column\"].str.STRING_FUNCTION()\n",
    "> ```\n",
    "\n",
    "...where `STRING_FUNCTION()` is any of the [string accessor methods](https://pandas.pydata.org/docs/reference/series.html#api-series-str).\n",
    "\n",
    "Specifically, one string accessor method is:\n",
    "\n",
    "> `[...].str.len()`: Compute the length of each element in the Series/Index.\n",
    "\n",
    "To begin our analysis of the length of each response, add two new columns to the DataFrame:\n",
    "- `human_answer_len`, containing the length (in characters) of the human response\n",
    "- `chatgpt_answer_len`, containing the length (in characters) of the ChatGPT response"
   ]
  },
  {
   "cell_type": "code",
   "execution_count": 10,
   "metadata": {},
   "outputs": [
    {
     "data": {
      "text/html": [
       "<div>\n",
       "<style scoped>\n",
       "    .dataframe tbody tr th:only-of-type {\n",
       "        vertical-align: middle;\n",
       "    }\n",
       "\n",
       "    .dataframe tbody tr th {\n",
       "        vertical-align: top;\n",
       "    }\n",
       "\n",
       "    .dataframe thead th {\n",
       "        text-align: right;\n",
       "    }\n",
       "</style>\n",
       "<table border=\"1\" class=\"dataframe\">\n",
       "  <thead>\n",
       "    <tr style=\"text-align: right;\">\n",
       "      <th></th>\n",
       "      <th>question</th>\n",
       "      <th>human_answer</th>\n",
       "      <th>chatgpt_answer</th>\n",
       "      <th>human_answer_len</th>\n",
       "      <th>chatgpt_answer_len</th>\n",
       "    </tr>\n",
       "  </thead>\n",
       "  <tbody>\n",
       "    <tr>\n",
       "      <th>0</th>\n",
       "      <td>Why is every book I hear about a \" NY Times # ...</td>\n",
       "      <td>Basically there are many categories of \" Best ...</td>\n",
       "      <td>There are many different best seller lists tha...</td>\n",
       "      <td>600</td>\n",
       "      <td>1114</td>\n",
       "    </tr>\n",
       "    <tr>\n",
       "      <th>1</th>\n",
       "      <td>If salt is so bad for cars , why do we use it ...</td>\n",
       "      <td>salt is good for not dying in car crashes and ...</td>\n",
       "      <td>Salt is used on roads to help melt ice and sno...</td>\n",
       "      <td>207</td>\n",
       "      <td>1148</td>\n",
       "    </tr>\n",
       "    <tr>\n",
       "      <th>2</th>\n",
       "      <td>Why do we still have SD TV channels when HD lo...</td>\n",
       "      <td>The way it works is that old TV stations got a...</td>\n",
       "      <td>There are a few reasons why we still have SD (...</td>\n",
       "      <td>784</td>\n",
       "      <td>789</td>\n",
       "    </tr>\n",
       "    <tr>\n",
       "      <th>3</th>\n",
       "      <td>Why has nobody assassinated Kim Jong - un He i...</td>\n",
       "      <td>You ca n't just go around assassinating the le...</td>\n",
       "      <td>It is generally not acceptable or ethical to a...</td>\n",
       "      <td>613</td>\n",
       "      <td>930</td>\n",
       "    </tr>\n",
       "    <tr>\n",
       "      <th>4</th>\n",
       "      <td>How was airplane technology able to advance so...</td>\n",
       "      <td>Wanting to kill the shit out of Germans drives...</td>\n",
       "      <td>After the Wright Brothers made the first power...</td>\n",
       "      <td>59</td>\n",
       "      <td>1235</td>\n",
       "    </tr>\n",
       "    <tr>\n",
       "      <th>...</th>\n",
       "      <td>...</td>\n",
       "      <td>...</td>\n",
       "      <td>...</td>\n",
       "      <td>...</td>\n",
       "      <td>...</td>\n",
       "    </tr>\n",
       "    <tr>\n",
       "      <th>95</th>\n",
       "      <td>How come the Constitution of the US is relevan...</td>\n",
       "      <td>The Constitution is the highest law of the lan...</td>\n",
       "      <td>The Constitution of the United States is the s...</td>\n",
       "      <td>368</td>\n",
       "      <td>1281</td>\n",
       "    </tr>\n",
       "    <tr>\n",
       "      <th>96</th>\n",
       "      <td>Why does Valve have Greenlight would n't it ma...</td>\n",
       "      <td>Now , There are 2 problems with steam , and bo...</td>\n",
       "      <td>Valve, the company that developed the Steam pl...</td>\n",
       "      <td>876</td>\n",
       "      <td>1034</td>\n",
       "    </tr>\n",
       "    <tr>\n",
       "      <th>97</th>\n",
       "      <td>why do people so commonly say SO instead of bo...</td>\n",
       "      <td>SO covers boyfriends , girlfriends , husbands ...</td>\n",
       "      <td>People might use the term \"SO\" instead of \"boy...</td>\n",
       "      <td>125</td>\n",
       "      <td>846</td>\n",
       "    </tr>\n",
       "    <tr>\n",
       "      <th>98</th>\n",
       "      <td>How do companies that buy &amp; re - sell other pe...</td>\n",
       "      <td>I get that they are \" bottom feeders \" but to ...</td>\n",
       "      <td>When a company or individual owes money to ano...</td>\n",
       "      <td>202</td>\n",
       "      <td>1254</td>\n",
       "    </tr>\n",
       "    <tr>\n",
       "      <th>99</th>\n",
       "      <td>What is Heisenberg 's uncertainty principle in...</td>\n",
       "      <td>In the simplest terms , anything we do to try ...</td>\n",
       "      <td>Heisenberg's uncertainty principle is a fundam...</td>\n",
       "      <td>363</td>\n",
       "      <td>1438</td>\n",
       "    </tr>\n",
       "  </tbody>\n",
       "</table>\n",
       "<p>100 rows × 5 columns</p>\n",
       "</div>"
      ],
      "text/plain": [
       "                                             question  \\\n",
       "0   Why is every book I hear about a \" NY Times # ...   \n",
       "1   If salt is so bad for cars , why do we use it ...   \n",
       "2   Why do we still have SD TV channels when HD lo...   \n",
       "3   Why has nobody assassinated Kim Jong - un He i...   \n",
       "4   How was airplane technology able to advance so...   \n",
       "..                                                ...   \n",
       "95  How come the Constitution of the US is relevan...   \n",
       "96  Why does Valve have Greenlight would n't it ma...   \n",
       "97  why do people so commonly say SO instead of bo...   \n",
       "98  How do companies that buy & re - sell other pe...   \n",
       "99  What is Heisenberg 's uncertainty principle in...   \n",
       "\n",
       "                                         human_answer  \\\n",
       "0   Basically there are many categories of \" Best ...   \n",
       "1   salt is good for not dying in car crashes and ...   \n",
       "2   The way it works is that old TV stations got a...   \n",
       "3   You ca n't just go around assassinating the le...   \n",
       "4   Wanting to kill the shit out of Germans drives...   \n",
       "..                                                ...   \n",
       "95  The Constitution is the highest law of the lan...   \n",
       "96  Now , There are 2 problems with steam , and bo...   \n",
       "97  SO covers boyfriends , girlfriends , husbands ...   \n",
       "98  I get that they are \" bottom feeders \" but to ...   \n",
       "99  In the simplest terms , anything we do to try ...   \n",
       "\n",
       "                                       chatgpt_answer  human_answer_len  \\\n",
       "0   There are many different best seller lists tha...               600   \n",
       "1   Salt is used on roads to help melt ice and sno...               207   \n",
       "2   There are a few reasons why we still have SD (...               784   \n",
       "3   It is generally not acceptable or ethical to a...               613   \n",
       "4   After the Wright Brothers made the first power...                59   \n",
       "..                                                ...               ...   \n",
       "95  The Constitution of the United States is the s...               368   \n",
       "96  Valve, the company that developed the Steam pl...               876   \n",
       "97  People might use the term \"SO\" instead of \"boy...               125   \n",
       "98  When a company or individual owes money to ano...               202   \n",
       "99  Heisenberg's uncertainty principle is a fundam...               363   \n",
       "\n",
       "    chatgpt_answer_len  \n",
       "0                 1114  \n",
       "1                 1148  \n",
       "2                  789  \n",
       "3                  930  \n",
       "4                 1235  \n",
       "..                 ...  \n",
       "95                1281  \n",
       "96                1034  \n",
       "97                 846  \n",
       "98                1254  \n",
       "99                1438  \n",
       "\n",
       "[100 rows x 5 columns]"
      ]
     },
     "execution_count": 10,
     "metadata": {},
     "output_type": "execute_result"
    }
   ],
   "source": [
    "df[\"human_answer_len\"] = df[\"human_answer\"].str.len()\n",
    "df[\"chatgpt_answer_len\"] = df[\"chatgpt_answer\"].str.len()\n",
    "df"
   ]
  },
  {
   "cell_type": "markdown",
   "metadata": {},
   "source": [
    "### Part 2.2: Compute the Average Answer Lengths\n",
    "\n",
    "Now that we have the lengths of both responses, save the average length of the responses in the variables `human_avg` and `ai_avg`:"
   ]
  },
  {
   "cell_type": "code",
   "execution_count": 11,
   "metadata": {},
   "outputs": [
    {
     "data": {
      "text/plain": [
       "np.float64(729.88)"
      ]
     },
     "execution_count": 11,
     "metadata": {},
     "output_type": "execute_result"
    }
   ],
   "source": [
    "# Average response length for a human response:\n",
    "human_avg = df[\"human_answer_len\"].mean()\n",
    "human_avg"
   ]
  },
  {
   "cell_type": "code",
   "execution_count": 13,
   "metadata": {},
   "outputs": [
    {
     "data": {
      "text/plain": [
       "np.float64(1098.77)"
      ]
     },
     "execution_count": 13,
     "metadata": {},
     "output_type": "execute_result"
    }
   ],
   "source": [
    "# Average response length for a ChatGPT response:\n",
    "ai_avg = df[\"chatgpt_answer_len\"].mean()\n",
    "ai_avg"
   ]
  },
  {
   "cell_type": "code",
   "execution_count": 14,
   "metadata": {},
   "outputs": [
    {
     "name": "stdout",
     "output_type": "stream",
     "text": [
      "🎉 All Tests Passed! 🎉\n"
     ]
    }
   ],
   "source": [
    "### TEST CASE for Part 2.2: Compute the Average Answer Lengths\n",
    "tada = \"\\N{PARTY POPPER}\"\n",
    "assert(\"human_avg\" in vars()), \"Your average response length for the human responses has to be stored in the variable `human_avg`.\"\n",
    "assert(\"ai_avg\" in vars()), \"Your average response length for the ai responses has to be stored in the variable `ai_avg`.\"\n",
    "assert('human_answer_len' in df.columns), \"The lengths of human responses should be in a column named `human_answer_len` in `df`.\"\n",
    "assert('chatgpt_answer_len' in df.columns), \"The lengths of ChatGPT responses should be in a column named `chatgpt_answer_len` in `df`.\"\n",
    "assert(876 in df[\"human_answer_len\"].values and 930 in df[\"chatgpt_answer_len\"].values), \"Make sure you're using the correct string accessor method.\"\n",
    "assert((human_avg * 390)/30 == 9488.44), \"`human_avg` was calculated incorrectly.\"\n",
    "assert(((ai_avg * 444)/30) + 86 == 16347.796), \"`ai_avg` was calculated incorrectly.\"\n",
    "print(f\"{tada} All Tests Passed! {tada}\")"
   ]
  },
  {
   "cell_type": "markdown",
   "metadata": {},
   "source": [
    "### Part 2.3: Testing if the Difference in Length is Statistically Significant\n",
    "\n",
    "To determine if the difference between the means is statistically significant, we're going to conduct a t-test. Let's first state our null and alternative hypotheses.\n",
    "\n",
    "> **Null hypothesis**: There is no significant difference between the means of the two response lengths.\n",
    "> \n",
    "> **Alternative hypothesis**: There is a significant difference between the means of the two response lengths."
   ]
  },
  {
   "cell_type": "markdown",
   "metadata": {},
   "source": [
    "Use the [`scipy.stats.ttest_ind()`](https://docs.scipy.org/doc/scipy/reference/generated/scipy.stats.ttest_ind.html) function to get the t-stat (as `t_stat`) and p-value (as `p_value`).\n",
    "\n",
    "You can find the function documentation here: https://docs.scipy.org/doc/scipy/reference/generated/scipy.stats.ttest_ind.html"
   ]
  },
  {
   "cell_type": "code",
   "execution_count": null,
   "metadata": {},
   "outputs": [],
   "source": []
  },
  {
   "cell_type": "code",
   "execution_count": 20,
   "metadata": {},
   "outputs": [],
   "source": [
    "import scipy.stats\n",
    "# Compute a t-test:\n",
    "#    Syntax: t_stat, p_value = scipy.stats.ttest_ind( ... )\n",
    "t_stat, p_value = scipy.stats.ttest_ind(df[\"human_answer_len\"],df[\"chatgpt_answer_len\"])"
   ]
  },
  {
   "cell_type": "code",
   "execution_count": 21,
   "metadata": {},
   "outputs": [
    {
     "data": {
      "text/plain": [
       "np.float64(-3.2043931944794153)"
      ]
     },
     "execution_count": 21,
     "metadata": {},
     "output_type": "execute_result"
    }
   ],
   "source": [
    "# Display the t-statistic:\n",
    "t_stat"
   ]
  },
  {
   "cell_type": "code",
   "execution_count": 22,
   "metadata": {},
   "outputs": [
    {
     "data": {
      "text/plain": [
       "np.float64(0.0015776855917118066)"
      ]
     },
     "execution_count": 22,
     "metadata": {},
     "output_type": "execute_result"
    }
   ],
   "source": [
    "# Display the p-value:\n",
    "p_value"
   ]
  },
  {
   "cell_type": "markdown",
   "metadata": {},
   "source": [
    "### Part 2.4: Choosing Your Conclusion\n",
    "\n",
    "Using the calculated p-value and an alpha level of 0.05, we can determine if there is a significant difference between the two mean values.\n",
    "\n",
    "For each set of comments, un-comment **exactly one line in each set** corresponding to the true statement:"
   ]
  },
  {
   "cell_type": "code",
   "execution_count": 25,
   "metadata": {},
   "outputs": [
    {
     "name": "stdout",
     "output_type": "stream",
     "text": [
      "Conclusion: The p-value is less than 0.05 (5%) so there IS a statistically significant difference difference between the means of the response lengths.\n"
     ]
    }
   ],
   "source": [
    "# == Un-comment the correct statement for the p-value: ==\n",
    "#conclusion_p_value = \"The p-value is greater than 0.05 (5%)\"\n",
    "conclusion_p_value = \"The p-value is less than 0.05 (5%)\"\n",
    "\n",
    "# == Un-comment the correct statement for the significance: ==\n",
    "conclusion_significance = \"there IS a statistically significant difference\"\n",
    "#conclusion_significance = \"there is NOT a statistically significant difference\"\n",
    "\n",
    "# == We will print your conclusion ==\n",
    "print(f\"Conclusion: {conclusion_p_value} so {conclusion_significance} difference between the means of the response lengths.\")"
   ]
  },
  {
   "cell_type": "code",
   "execution_count": 26,
   "metadata": {},
   "outputs": [
    {
     "name": "stdout",
     "output_type": "stream",
     "text": [
      "🎉 All Tests Passed! 🎉\n"
     ]
    }
   ],
   "source": [
    "### TEST CASE for Part 2.4: Response Length Analysis\n",
    "tada = \"\\N{PARTY POPPER}\"\n",
    "assert(\"t_stat\" in vars()), \"Store your t-statistic in the variable `t_stat`. Check the ttest_ind() documentation or the comment in that code box for the correct syntax.\"\n",
    "assert(\"p_value\" in vars()), \"Store your p-value in the variable `p_value`. Check the ttest_ind() documentation or the comment in that code box for the correct syntax.\"\n",
    "\n",
    "import math\n",
    "assert( math.isclose(t_stat * p_value, -0.005055524973109543) ), \"Check your t_stat and p_value.\"\n",
    "assert( len(conclusion_p_value) * len(conclusion_significance) == 1598 ), \"Your conclusion is incorrect.\"\n",
    "\n",
    "print(f\"{tada} All Tests Passed! {tada}\")"
   ]
  },
  {
   "cell_type": "markdown",
   "metadata": {},
   "source": [
    "<hr style=\"color: #DD3403;\">"
   ]
  },
  {
   "cell_type": "markdown",
   "metadata": {},
   "source": [
    "## Part 3: Sentiment Analysis\n",
    "\n",
    "A second common critique of current AI systems are the answers are often **more subjective** and **optimistic** than a human.\n",
    "\n",
    "There is a field of Data and Computer Science called \"Natural Language Processing (NLP)\" that involves algorithms to analyze the \"polarity\" and \"subjectivity\" score of a piece of text.  In the next two parts of this MicroPorject, we will explore the polarity and subjectivity of human and AI responses."
   ]
  },
  {
   "cell_type": "markdown",
   "metadata": {},
   "source": [
    "### Part 3.1: Using TextBlob to Find the Polarity Scores\n",
    "\n",
    "TextBlob is a Python library for processing textual data. It provides a simple API for diving into common natural language processing (NLP) tasks such as part-of-speech tagging, noun phrase extraction, sentiment analysis, classification, translation, and more. \n",
    "\n",
    "Among the many features, TextBlob can calculate a polarity score for any given piece of text.  A \"polarity score\" ranges from -1 to 1, where:\n",
    "- A score of -1 is very negative,\n",
    "- A score of 0 is neutral, and\n",
    "- A score of 1 is very positive.\n",
    "\n",
    "For example, the text *\"You will fail DISCOVERY if you do not take the final exam\"* is a negative statement and has a polarity score of -0.25.\n"
   ]
  },
  {
   "cell_type": "markdown",
   "metadata": {},
   "source": [
    "### Part 3.2: Installing TextBlob\n",
    "\n",
    "To use the TextBlob library, we first need to start installing the library:\n",
    "\n",
    "1. In your terminal, type the following: `python3 -m pip install textblob`\n",
    "\n",
    "    - If this command does not work, try the others `pip install` commands listed [here](https://discovery.cs.illinois.edu/guides/System-Setup/Setup-Your-System/#Step-4-Installing-pandas), replacing `pandas` with `textblob`.\n",
    "\n",
    "2. Once it is installed, import the `TextBlob` library with the following import statement:"
   ]
  },
  {
   "cell_type": "code",
   "execution_count": 28,
   "metadata": {},
   "outputs": [],
   "source": [
    "from textblob import TextBlob"
   ]
  },
  {
   "cell_type": "markdown",
   "metadata": {},
   "source": [
    "### Part 3.3: Creating a `polarity` Function\n",
    "\n",
    "To allow us to easily find the \"polarity score\" of hundreds of pieces of text using pandas, we need a function that will take a string `s` as input and return the polarity score.\n",
    "\n",
    "Complete the `polarity` function below, by:\n",
    "- Reading the [TextBlob Tutorial: Quickstart](https://textblob.readthedocs.io/en/dev/quickstart.html), specifically focusing on the \"Sentiment Analysis\" portion of the the tutorial.\n",
    "- Finish the `polarity` so that the function returns the polarity score of the input string `s`."
   ]
  },
  {
   "cell_type": "code",
   "execution_count": 43,
   "metadata": {},
   "outputs": [],
   "source": [
    "def polarity(s):\n",
    "  text = TextBlob(s)\n",
    "  return text.sentiment.polarity\n",
    "\n"
   ]
  },
  {
   "cell_type": "markdown",
   "metadata": {},
   "source": [
    "Now, let's test your function to make sure it's working:"
   ]
  },
  {
   "cell_type": "code",
   "execution_count": 44,
   "metadata": {},
   "outputs": [
    {
     "data": {
      "text/plain": [
       "0.39166666666666666"
      ]
     },
     "execution_count": 44,
     "metadata": {},
     "output_type": "execute_result"
    }
   ],
   "source": [
    "# From the documentation, we expect a positive (above zero) polarity:\n",
    "polarity(\"Textblob is amazingly simple to use. What great fun!\")"
   ]
  },
  {
   "cell_type": "code",
   "execution_count": 45,
   "metadata": {},
   "outputs": [
    {
     "data": {
      "text/plain": [
       "-0.25"
      ]
     },
     "execution_count": 45,
     "metadata": {},
     "output_type": "execute_result"
    }
   ],
   "source": [
    "# A negative statement, we expect a negative (below zero) polarity:\n",
    "polarity(\"You will fail DISCOVERY if you do not take the final exam\")"
   ]
  },
  {
   "cell_type": "code",
   "execution_count": 46,
   "metadata": {},
   "outputs": [
    {
     "data": {
      "text/plain": [
       "0.0"
      ]
     },
     "execution_count": 46,
     "metadata": {},
     "output_type": "execute_result"
    }
   ],
   "source": [
    "# A neutral statement, we expect a zero polarity:\n",
    "polarity(\"Hello, world!\")"
   ]
  },
  {
   "cell_type": "code",
   "execution_count": 51,
   "metadata": {},
   "outputs": [
    {
     "data": {
      "text/plain": [
       "0.1333333333333333"
      ]
     },
     "execution_count": 51,
     "metadata": {},
     "output_type": "execute_result"
    }
   ],
   "source": [
    "# Feel free to try your own sentence :)\n",
    "polarity(\"Good and evil are subjective. A saint can commit sins and the devil can do good deeds. It is all subjective\")"
   ]
  },
  {
   "cell_type": "markdown",
   "metadata": {},
   "source": [
    "### Part 3.4: Finding the Polarity of Human Answers\n",
    "\n",
    "Once you have defined a custom function, you can use it on every row of data by using:\n",
    "> ```python\n",
    "> df[\"column\"].apply( customFunctionName )\n",
    "> ```\n",
    "\n",
    "Note that `customFunctionName` is **ONLY the function name** and does NOT contain the **function call** (there are no parenthesis after the function name; it's just the name of the function). You are providing ONLY the **name of the function** and the `apply` function will internally **call** the function.\n",
    "\n",
    "Using the syntax above, create a new column named `human_polarity` that finds the polarity of the `human_answer` data using the `.apply` operation on a column of the DataFrame:"
   ]
  },
  {
   "cell_type": "code",
   "execution_count": 53,
   "metadata": {},
   "outputs": [
    {
     "data": {
      "text/html": [
       "<div>\n",
       "<style scoped>\n",
       "    .dataframe tbody tr th:only-of-type {\n",
       "        vertical-align: middle;\n",
       "    }\n",
       "\n",
       "    .dataframe tbody tr th {\n",
       "        vertical-align: top;\n",
       "    }\n",
       "\n",
       "    .dataframe thead th {\n",
       "        text-align: right;\n",
       "    }\n",
       "</style>\n",
       "<table border=\"1\" class=\"dataframe\">\n",
       "  <thead>\n",
       "    <tr style=\"text-align: right;\">\n",
       "      <th></th>\n",
       "      <th>question</th>\n",
       "      <th>human_answer</th>\n",
       "      <th>chatgpt_answer</th>\n",
       "      <th>human_answer_len</th>\n",
       "      <th>chatgpt_answer_len</th>\n",
       "      <th>human_polarity</th>\n",
       "      <th>chatgpt_polarity</th>\n",
       "    </tr>\n",
       "  </thead>\n",
       "  <tbody>\n",
       "    <tr>\n",
       "      <th>0</th>\n",
       "      <td>Why is every book I hear about a \" NY Times # ...</td>\n",
       "      <td>Basically there are many categories of \" Best ...</td>\n",
       "      <td>There are many different best seller lists tha...</td>\n",
       "      <td>600</td>\n",
       "      <td>1114</td>\n",
       "      <td>0.696667</td>\n",
       "      <td>Ellipsis</td>\n",
       "    </tr>\n",
       "    <tr>\n",
       "      <th>1</th>\n",
       "      <td>If salt is so bad for cars , why do we use it ...</td>\n",
       "      <td>salt is good for not dying in car crashes and ...</td>\n",
       "      <td>Salt is used on roads to help melt ice and sno...</td>\n",
       "      <td>207</td>\n",
       "      <td>1148</td>\n",
       "      <td>0.289286</td>\n",
       "      <td>Ellipsis</td>\n",
       "    </tr>\n",
       "    <tr>\n",
       "      <th>2</th>\n",
       "      <td>Why do we still have SD TV channels when HD lo...</td>\n",
       "      <td>The way it works is that old TV stations got a...</td>\n",
       "      <td>There are a few reasons why we still have SD (...</td>\n",
       "      <td>784</td>\n",
       "      <td>789</td>\n",
       "      <td>0.160761</td>\n",
       "      <td>Ellipsis</td>\n",
       "    </tr>\n",
       "    <tr>\n",
       "      <th>3</th>\n",
       "      <td>Why has nobody assassinated Kim Jong - un He i...</td>\n",
       "      <td>You ca n't just go around assassinating the le...</td>\n",
       "      <td>It is generally not acceptable or ethical to a...</td>\n",
       "      <td>613</td>\n",
       "      <td>930</td>\n",
       "      <td>-0.025000</td>\n",
       "      <td>Ellipsis</td>\n",
       "    </tr>\n",
       "    <tr>\n",
       "      <th>4</th>\n",
       "      <td>How was airplane technology able to advance so...</td>\n",
       "      <td>Wanting to kill the shit out of Germans drives...</td>\n",
       "      <td>After the Wright Brothers made the first power...</td>\n",
       "      <td>59</td>\n",
       "      <td>1235</td>\n",
       "      <td>-0.200000</td>\n",
       "      <td>Ellipsis</td>\n",
       "    </tr>\n",
       "    <tr>\n",
       "      <th>...</th>\n",
       "      <td>...</td>\n",
       "      <td>...</td>\n",
       "      <td>...</td>\n",
       "      <td>...</td>\n",
       "      <td>...</td>\n",
       "      <td>...</td>\n",
       "      <td>...</td>\n",
       "    </tr>\n",
       "    <tr>\n",
       "      <th>95</th>\n",
       "      <td>How come the Constitution of the US is relevan...</td>\n",
       "      <td>The Constitution is the highest law of the lan...</td>\n",
       "      <td>The Constitution of the United States is the s...</td>\n",
       "      <td>368</td>\n",
       "      <td>1281</td>\n",
       "      <td>-0.083333</td>\n",
       "      <td>Ellipsis</td>\n",
       "    </tr>\n",
       "    <tr>\n",
       "      <th>96</th>\n",
       "      <td>Why does Valve have Greenlight would n't it ma...</td>\n",
       "      <td>Now , There are 2 problems with steam , and bo...</td>\n",
       "      <td>Valve, the company that developed the Steam pl...</td>\n",
       "      <td>876</td>\n",
       "      <td>1034</td>\n",
       "      <td>-0.061111</td>\n",
       "      <td>Ellipsis</td>\n",
       "    </tr>\n",
       "    <tr>\n",
       "      <th>97</th>\n",
       "      <td>why do people so commonly say SO instead of bo...</td>\n",
       "      <td>SO covers boyfriends , girlfriends , husbands ...</td>\n",
       "      <td>People might use the term \"SO\" instead of \"boy...</td>\n",
       "      <td>125</td>\n",
       "      <td>846</td>\n",
       "      <td>-0.250000</td>\n",
       "      <td>Ellipsis</td>\n",
       "    </tr>\n",
       "    <tr>\n",
       "      <th>98</th>\n",
       "      <td>How do companies that buy &amp; re - sell other pe...</td>\n",
       "      <td>I get that they are \" bottom feeders \" but to ...</td>\n",
       "      <td>When a company or individual owes money to ano...</td>\n",
       "      <td>202</td>\n",
       "      <td>1254</td>\n",
       "      <td>0.170000</td>\n",
       "      <td>Ellipsis</td>\n",
       "    </tr>\n",
       "    <tr>\n",
       "      <th>99</th>\n",
       "      <td>What is Heisenberg 's uncertainty principle in...</td>\n",
       "      <td>In the simplest terms , anything we do to try ...</td>\n",
       "      <td>Heisenberg's uncertainty principle is a fundam...</td>\n",
       "      <td>363</td>\n",
       "      <td>1438</td>\n",
       "      <td>-0.322222</td>\n",
       "      <td>Ellipsis</td>\n",
       "    </tr>\n",
       "  </tbody>\n",
       "</table>\n",
       "<p>100 rows × 7 columns</p>\n",
       "</div>"
      ],
      "text/plain": [
       "                                             question  \\\n",
       "0   Why is every book I hear about a \" NY Times # ...   \n",
       "1   If salt is so bad for cars , why do we use it ...   \n",
       "2   Why do we still have SD TV channels when HD lo...   \n",
       "3   Why has nobody assassinated Kim Jong - un He i...   \n",
       "4   How was airplane technology able to advance so...   \n",
       "..                                                ...   \n",
       "95  How come the Constitution of the US is relevan...   \n",
       "96  Why does Valve have Greenlight would n't it ma...   \n",
       "97  why do people so commonly say SO instead of bo...   \n",
       "98  How do companies that buy & re - sell other pe...   \n",
       "99  What is Heisenberg 's uncertainty principle in...   \n",
       "\n",
       "                                         human_answer  \\\n",
       "0   Basically there are many categories of \" Best ...   \n",
       "1   salt is good for not dying in car crashes and ...   \n",
       "2   The way it works is that old TV stations got a...   \n",
       "3   You ca n't just go around assassinating the le...   \n",
       "4   Wanting to kill the shit out of Germans drives...   \n",
       "..                                                ...   \n",
       "95  The Constitution is the highest law of the lan...   \n",
       "96  Now , There are 2 problems with steam , and bo...   \n",
       "97  SO covers boyfriends , girlfriends , husbands ...   \n",
       "98  I get that they are \" bottom feeders \" but to ...   \n",
       "99  In the simplest terms , anything we do to try ...   \n",
       "\n",
       "                                       chatgpt_answer  human_answer_len  \\\n",
       "0   There are many different best seller lists tha...               600   \n",
       "1   Salt is used on roads to help melt ice and sno...               207   \n",
       "2   There are a few reasons why we still have SD (...               784   \n",
       "3   It is generally not acceptable or ethical to a...               613   \n",
       "4   After the Wright Brothers made the first power...                59   \n",
       "..                                                ...               ...   \n",
       "95  The Constitution of the United States is the s...               368   \n",
       "96  Valve, the company that developed the Steam pl...               876   \n",
       "97  People might use the term \"SO\" instead of \"boy...               125   \n",
       "98  When a company or individual owes money to ano...               202   \n",
       "99  Heisenberg's uncertainty principle is a fundam...               363   \n",
       "\n",
       "    chatgpt_answer_len  human_polarity chatgpt_polarity  \n",
       "0                 1114        0.696667         Ellipsis  \n",
       "1                 1148        0.289286         Ellipsis  \n",
       "2                  789        0.160761         Ellipsis  \n",
       "3                  930       -0.025000         Ellipsis  \n",
       "4                 1235       -0.200000         Ellipsis  \n",
       "..                 ...             ...              ...  \n",
       "95                1281       -0.083333         Ellipsis  \n",
       "96                1034       -0.061111         Ellipsis  \n",
       "97                 846       -0.250000         Ellipsis  \n",
       "98                1254        0.170000         Ellipsis  \n",
       "99                1438       -0.322222         Ellipsis  \n",
       "\n",
       "[100 rows x 7 columns]"
      ]
     },
     "execution_count": 53,
     "metadata": {},
     "output_type": "execute_result"
    }
   ],
   "source": [
    "df[\"human_polarity\"] = df[\"human_answer\"].apply(polarity)\n",
    "df"
   ]
  },
  {
   "cell_type": "markdown",
   "metadata": {},
   "source": [
    "### Part 3.5: Finding the Polarity of ChatGPT Answers\n",
    "\n",
    "Now, find the polarity of ChatGPT answers and save each polarity in the column `chatgpt_polarity`:"
   ]
  },
  {
   "cell_type": "code",
   "execution_count": 55,
   "metadata": {},
   "outputs": [
    {
     "data": {
      "text/html": [
       "<div>\n",
       "<style scoped>\n",
       "    .dataframe tbody tr th:only-of-type {\n",
       "        vertical-align: middle;\n",
       "    }\n",
       "\n",
       "    .dataframe tbody tr th {\n",
       "        vertical-align: top;\n",
       "    }\n",
       "\n",
       "    .dataframe thead th {\n",
       "        text-align: right;\n",
       "    }\n",
       "</style>\n",
       "<table border=\"1\" class=\"dataframe\">\n",
       "  <thead>\n",
       "    <tr style=\"text-align: right;\">\n",
       "      <th></th>\n",
       "      <th>question</th>\n",
       "      <th>human_answer</th>\n",
       "      <th>chatgpt_answer</th>\n",
       "      <th>human_answer_len</th>\n",
       "      <th>chatgpt_answer_len</th>\n",
       "      <th>human_polarity</th>\n",
       "      <th>chatgpt_polarity</th>\n",
       "    </tr>\n",
       "  </thead>\n",
       "  <tbody>\n",
       "    <tr>\n",
       "      <th>0</th>\n",
       "      <td>Why is every book I hear about a \" NY Times # ...</td>\n",
       "      <td>Basically there are many categories of \" Best ...</td>\n",
       "      <td>There are many different best seller lists tha...</td>\n",
       "      <td>600</td>\n",
       "      <td>1114</td>\n",
       "      <td>0.696667</td>\n",
       "      <td>0.352774</td>\n",
       "    </tr>\n",
       "    <tr>\n",
       "      <th>1</th>\n",
       "      <td>If salt is so bad for cars , why do we use it ...</td>\n",
       "      <td>salt is good for not dying in car crashes and ...</td>\n",
       "      <td>Salt is used on roads to help melt ice and sno...</td>\n",
       "      <td>207</td>\n",
       "      <td>1148</td>\n",
       "      <td>0.289286</td>\n",
       "      <td>0.113158</td>\n",
       "    </tr>\n",
       "    <tr>\n",
       "      <th>2</th>\n",
       "      <td>Why do we still have SD TV channels when HD lo...</td>\n",
       "      <td>The way it works is that old TV stations got a...</td>\n",
       "      <td>There are a few reasons why we still have SD (...</td>\n",
       "      <td>784</td>\n",
       "      <td>789</td>\n",
       "      <td>0.160761</td>\n",
       "      <td>0.196140</td>\n",
       "    </tr>\n",
       "    <tr>\n",
       "      <th>3</th>\n",
       "      <td>Why has nobody assassinated Kim Jong - un He i...</td>\n",
       "      <td>You ca n't just go around assassinating the le...</td>\n",
       "      <td>It is generally not acceptable or ethical to a...</td>\n",
       "      <td>613</td>\n",
       "      <td>930</td>\n",
       "      <td>-0.025000</td>\n",
       "      <td>0.032037</td>\n",
       "    </tr>\n",
       "    <tr>\n",
       "      <th>4</th>\n",
       "      <td>How was airplane technology able to advance so...</td>\n",
       "      <td>Wanting to kill the shit out of Germans drives...</td>\n",
       "      <td>After the Wright Brothers made the first power...</td>\n",
       "      <td>59</td>\n",
       "      <td>1235</td>\n",
       "      <td>-0.200000</td>\n",
       "      <td>0.336167</td>\n",
       "    </tr>\n",
       "    <tr>\n",
       "      <th>...</th>\n",
       "      <td>...</td>\n",
       "      <td>...</td>\n",
       "      <td>...</td>\n",
       "      <td>...</td>\n",
       "      <td>...</td>\n",
       "      <td>...</td>\n",
       "      <td>...</td>\n",
       "    </tr>\n",
       "    <tr>\n",
       "      <th>95</th>\n",
       "      <td>How come the Constitution of the US is relevan...</td>\n",
       "      <td>The Constitution is the highest law of the lan...</td>\n",
       "      <td>The Constitution of the United States is the s...</td>\n",
       "      <td>368</td>\n",
       "      <td>1281</td>\n",
       "      <td>-0.083333</td>\n",
       "      <td>0.182286</td>\n",
       "    </tr>\n",
       "    <tr>\n",
       "      <th>96</th>\n",
       "      <td>Why does Valve have Greenlight would n't it ma...</td>\n",
       "      <td>Now , There are 2 problems with steam , and bo...</td>\n",
       "      <td>Valve, the company that developed the Steam pl...</td>\n",
       "      <td>876</td>\n",
       "      <td>1034</td>\n",
       "      <td>-0.061111</td>\n",
       "      <td>0.000000</td>\n",
       "    </tr>\n",
       "    <tr>\n",
       "      <th>97</th>\n",
       "      <td>why do people so commonly say SO instead of bo...</td>\n",
       "      <td>SO covers boyfriends , girlfriends , husbands ...</td>\n",
       "      <td>People might use the term \"SO\" instead of \"boy...</td>\n",
       "      <td>125</td>\n",
       "      <td>846</td>\n",
       "      <td>-0.250000</td>\n",
       "      <td>0.080769</td>\n",
       "    </tr>\n",
       "    <tr>\n",
       "      <th>98</th>\n",
       "      <td>How do companies that buy &amp; re - sell other pe...</td>\n",
       "      <td>I get that they are \" bottom feeders \" but to ...</td>\n",
       "      <td>When a company or individual owes money to ano...</td>\n",
       "      <td>202</td>\n",
       "      <td>1254</td>\n",
       "      <td>0.170000</td>\n",
       "      <td>0.112500</td>\n",
       "    </tr>\n",
       "    <tr>\n",
       "      <th>99</th>\n",
       "      <td>What is Heisenberg 's uncertainty principle in...</td>\n",
       "      <td>In the simplest terms , anything we do to try ...</td>\n",
       "      <td>Heisenberg's uncertainty principle is a fundam...</td>\n",
       "      <td>363</td>\n",
       "      <td>1438</td>\n",
       "      <td>-0.322222</td>\n",
       "      <td>0.105833</td>\n",
       "    </tr>\n",
       "  </tbody>\n",
       "</table>\n",
       "<p>100 rows × 7 columns</p>\n",
       "</div>"
      ],
      "text/plain": [
       "                                             question  \\\n",
       "0   Why is every book I hear about a \" NY Times # ...   \n",
       "1   If salt is so bad for cars , why do we use it ...   \n",
       "2   Why do we still have SD TV channels when HD lo...   \n",
       "3   Why has nobody assassinated Kim Jong - un He i...   \n",
       "4   How was airplane technology able to advance so...   \n",
       "..                                                ...   \n",
       "95  How come the Constitution of the US is relevan...   \n",
       "96  Why does Valve have Greenlight would n't it ma...   \n",
       "97  why do people so commonly say SO instead of bo...   \n",
       "98  How do companies that buy & re - sell other pe...   \n",
       "99  What is Heisenberg 's uncertainty principle in...   \n",
       "\n",
       "                                         human_answer  \\\n",
       "0   Basically there are many categories of \" Best ...   \n",
       "1   salt is good for not dying in car crashes and ...   \n",
       "2   The way it works is that old TV stations got a...   \n",
       "3   You ca n't just go around assassinating the le...   \n",
       "4   Wanting to kill the shit out of Germans drives...   \n",
       "..                                                ...   \n",
       "95  The Constitution is the highest law of the lan...   \n",
       "96  Now , There are 2 problems with steam , and bo...   \n",
       "97  SO covers boyfriends , girlfriends , husbands ...   \n",
       "98  I get that they are \" bottom feeders \" but to ...   \n",
       "99  In the simplest terms , anything we do to try ...   \n",
       "\n",
       "                                       chatgpt_answer  human_answer_len  \\\n",
       "0   There are many different best seller lists tha...               600   \n",
       "1   Salt is used on roads to help melt ice and sno...               207   \n",
       "2   There are a few reasons why we still have SD (...               784   \n",
       "3   It is generally not acceptable or ethical to a...               613   \n",
       "4   After the Wright Brothers made the first power...                59   \n",
       "..                                                ...               ...   \n",
       "95  The Constitution of the United States is the s...               368   \n",
       "96  Valve, the company that developed the Steam pl...               876   \n",
       "97  People might use the term \"SO\" instead of \"boy...               125   \n",
       "98  When a company or individual owes money to ano...               202   \n",
       "99  Heisenberg's uncertainty principle is a fundam...               363   \n",
       "\n",
       "    chatgpt_answer_len  human_polarity  chatgpt_polarity  \n",
       "0                 1114        0.696667          0.352774  \n",
       "1                 1148        0.289286          0.113158  \n",
       "2                  789        0.160761          0.196140  \n",
       "3                  930       -0.025000          0.032037  \n",
       "4                 1235       -0.200000          0.336167  \n",
       "..                 ...             ...               ...  \n",
       "95                1281       -0.083333          0.182286  \n",
       "96                1034       -0.061111          0.000000  \n",
       "97                 846       -0.250000          0.080769  \n",
       "98                1254        0.170000          0.112500  \n",
       "99                1438       -0.322222          0.105833  \n",
       "\n",
       "[100 rows x 7 columns]"
      ]
     },
     "execution_count": 55,
     "metadata": {},
     "output_type": "execute_result"
    }
   ],
   "source": [
    "df[\"chatgpt_polarity\"] = df[\"chatgpt_answer\"].apply(polarity)\n",
    "df"
   ]
  },
  {
   "cell_type": "code",
   "execution_count": 56,
   "metadata": {},
   "outputs": [
    {
     "name": "stdout",
     "output_type": "stream",
     "text": [
      "🎉 All Tests Passed! 🎉\n"
     ]
    }
   ],
   "source": [
    "### TEST CASE for Part 3: Sentiment Analysis - Polarity\n",
    "tada = \"\\N{PARTY POPPER}\"\n",
    "\n",
    "assert('human_polarity' in df.columns), \"You must have add a column named `human_polarity` to your DataFrame.\"\n",
    "assert('chatgpt_polarity' in df.columns), \"You must have add a column named `chatgpt_polarity` to your DataFrame.\"\n",
    "\n",
    "import math\n",
    "assert(math.isclose( df[\"human_polarity\"].mean(), 0.07790771420489018 )), \"The calculation of the `human_polarity` is incorrect.\"\n",
    "assert(math.isclose( df[\"chatgpt_polarity\"].std(), 0.11014935757814867 )), \"The calculation of the `chatgpt_polarity` is incorrect.\"\n",
    "\n",
    "print(f\"{tada} All Tests Passed! {tada}\")"
   ]
  },
  {
   "cell_type": "markdown",
   "metadata": {},
   "source": [
    "### Analysis: Overall Results So Far\n",
    "\n",
    "Run the following cell to see a summary of the results you found so far:"
   ]
  },
  {
   "cell_type": "code",
   "execution_count": 57,
   "metadata": {},
   "outputs": [
    {
     "data": {
      "text/html": [
       "<div>\n",
       "<style scoped>\n",
       "    .dataframe tbody tr th:only-of-type {\n",
       "        vertical-align: middle;\n",
       "    }\n",
       "\n",
       "    .dataframe tbody tr th {\n",
       "        vertical-align: top;\n",
       "    }\n",
       "\n",
       "    .dataframe thead th {\n",
       "        text-align: right;\n",
       "    }\n",
       "</style>\n",
       "<table border=\"1\" class=\"dataframe\">\n",
       "  <thead>\n",
       "    <tr style=\"text-align: right;\">\n",
       "      <th></th>\n",
       "      <th>Metric</th>\n",
       "      <th>Human</th>\n",
       "      <th>ChatGPT</th>\n",
       "      <th>p-value</th>\n",
       "      <th>significant</th>\n",
       "    </tr>\n",
       "  </thead>\n",
       "  <tbody>\n",
       "    <tr>\n",
       "      <th>0</th>\n",
       "      <td>Response Length (mean):</td>\n",
       "      <td>729.880000</td>\n",
       "      <td>1098.770000</td>\n",
       "      <td>0.001578</td>\n",
       "      <td>Yes (p &lt; 0.05)</td>\n",
       "    </tr>\n",
       "    <tr>\n",
       "      <th>1</th>\n",
       "      <td>Polarity (mean):</td>\n",
       "      <td>0.077908</td>\n",
       "      <td>0.098595</td>\n",
       "      <td>(not tested)</td>\n",
       "      <td>?</td>\n",
       "    </tr>\n",
       "  </tbody>\n",
       "</table>\n",
       "</div>"
      ],
      "text/plain": [
       "                    Metric       Human      ChatGPT       p-value  \\\n",
       "0  Response Length (mean):  729.880000  1098.770000      0.001578   \n",
       "1         Polarity (mean):    0.077908     0.098595  (not tested)   \n",
       "\n",
       "      significant  \n",
       "0  Yes (p < 0.05)  \n",
       "1               ?  "
      ]
     },
     "execution_count": 57,
     "metadata": {},
     "output_type": "execute_result"
    }
   ],
   "source": [
    "pd.DataFrame([\n",
    "  {\"Metric\": \"Response Length (mean):\",  \"Human\": human_avg, \"ChatGPT\": ai_avg, \"p-value\": p_value, \"significant\": (\"Yes (p < 0.05)\" if p_value < 0.05 else \"No\") },\n",
    "  {\"Metric\": \"Polarity (mean):\", \"Human\": df.human_polarity.mean(), \"ChatGPT\": df.chatgpt_polarity.mean(), \"p-value\": \"(not tested)\", \"significant\": \"?\" },\n",
    "])"
   ]
  },
  {
   "cell_type": "markdown",
   "metadata": {},
   "source": [
    "<hr style=\"color: #DD3403;\">"
   ]
  },
  {
   "cell_type": "markdown",
   "metadata": {},
   "source": [
    "## Part 4: Sentiment Analysis - Subjectivity\n",
    "\n",
    "TextBlob can also calculate a subjectivity score for any given piece of text.  A \"subjectivity score\" ranges from 0 to 1, where:\n",
    "- A score of 0 is not a subjective statement, and\n",
    "- A score of 1 is very subjective statement\n",
    "\n",
    "Using the same library and design as Part 2, create a function called `subjectivity` that returns the subjectivity score of a given string `s`:"
   ]
  },
  {
   "cell_type": "code",
   "execution_count": 64,
   "metadata": {},
   "outputs": [],
   "source": [
    "def subjectivity(s):\n",
    "  text = TextBlob(s)\n",
    "\n",
    "  return text.sentiment.subjectivity"
   ]
  },
  {
   "cell_type": "markdown",
   "metadata": {},
   "source": [
    "Let's try it out:"
   ]
  },
  {
   "cell_type": "code",
   "execution_count": 65,
   "metadata": {},
   "outputs": [
    {
     "data": {
      "text/plain": [
       "0.6"
      ]
     },
     "execution_count": 65,
     "metadata": {},
     "output_type": "execute_result"
    }
   ],
   "source": [
    "# A highly subjective statement, expecting a score above 0.5:\n",
    "subjectivity(\"The best fruit is a kiwi and everyone else is wrong!\")"
   ]
  },
  {
   "cell_type": "code",
   "execution_count": 66,
   "metadata": {},
   "outputs": [
    {
     "data": {
      "text/plain": [
       "0.0"
      ]
     },
     "execution_count": 66,
     "metadata": {},
     "output_type": "execute_result"
    }
   ],
   "source": [
    "# A factual statement, expecting a score near 0:\n",
    "subjectivity(\"Winter is colder than summer.\")"
   ]
  },
  {
   "cell_type": "code",
   "execution_count": 71,
   "metadata": {},
   "outputs": [
    {
     "data": {
      "text/plain": [
       "0.4833333333333333"
      ]
     },
     "execution_count": 71,
     "metadata": {},
     "output_type": "execute_result"
    }
   ],
   "source": [
    "# Feel free to try your own :)\n",
    "subjectivity(\"B99 is the best tv-show and everyone else who disagrees have bad taste\")"
   ]
  },
  {
   "cell_type": "markdown",
   "metadata": {},
   "source": [
    "### Part 4.1: Finding the Subjectivity of Human and ChatGPT Answers\n",
    "\n",
    "Add two new columns to the DataFrame, `human_subjectivity` and `chatgpt_subjectivity`, that stores the subjectivity of each answer for all of the questions.\n",
    "\n",
    "*You may need to look back to the previous section to review how to use the .apply function.*"
   ]
  },
  {
   "cell_type": "code",
   "execution_count": 73,
   "metadata": {},
   "outputs": [
    {
     "data": {
      "text/html": [
       "<div>\n",
       "<style scoped>\n",
       "    .dataframe tbody tr th:only-of-type {\n",
       "        vertical-align: middle;\n",
       "    }\n",
       "\n",
       "    .dataframe tbody tr th {\n",
       "        vertical-align: top;\n",
       "    }\n",
       "\n",
       "    .dataframe thead th {\n",
       "        text-align: right;\n",
       "    }\n",
       "</style>\n",
       "<table border=\"1\" class=\"dataframe\">\n",
       "  <thead>\n",
       "    <tr style=\"text-align: right;\">\n",
       "      <th></th>\n",
       "      <th>question</th>\n",
       "      <th>human_answer</th>\n",
       "      <th>chatgpt_answer</th>\n",
       "      <th>human_answer_len</th>\n",
       "      <th>chatgpt_answer_len</th>\n",
       "      <th>human_polarity</th>\n",
       "      <th>chatgpt_polarity</th>\n",
       "      <th>human_subjectivity</th>\n",
       "      <th>chatgpt_subjectivity</th>\n",
       "    </tr>\n",
       "  </thead>\n",
       "  <tbody>\n",
       "    <tr>\n",
       "      <th>0</th>\n",
       "      <td>Why is every book I hear about a \" NY Times # ...</td>\n",
       "      <td>Basically there are many categories of \" Best ...</td>\n",
       "      <td>There are many different best seller lists tha...</td>\n",
       "      <td>600</td>\n",
       "      <td>1114</td>\n",
       "      <td>0.696667</td>\n",
       "      <td>0.352774</td>\n",
       "      <td>0.348333</td>\n",
       "      <td>0.490007</td>\n",
       "    </tr>\n",
       "    <tr>\n",
       "      <th>1</th>\n",
       "      <td>If salt is so bad for cars , why do we use it ...</td>\n",
       "      <td>salt is good for not dying in car crashes and ...</td>\n",
       "      <td>Salt is used on roads to help melt ice and sno...</td>\n",
       "      <td>207</td>\n",
       "      <td>1148</td>\n",
       "      <td>0.289286</td>\n",
       "      <td>0.113158</td>\n",
       "      <td>0.625000</td>\n",
       "      <td>0.577193</td>\n",
       "    </tr>\n",
       "    <tr>\n",
       "      <th>2</th>\n",
       "      <td>Why do we still have SD TV channels when HD lo...</td>\n",
       "      <td>The way it works is that old TV stations got a...</td>\n",
       "      <td>There are a few reasons why we still have SD (...</td>\n",
       "      <td>784</td>\n",
       "      <td>789</td>\n",
       "      <td>0.160761</td>\n",
       "      <td>0.196140</td>\n",
       "      <td>0.387570</td>\n",
       "      <td>0.574912</td>\n",
       "    </tr>\n",
       "    <tr>\n",
       "      <th>3</th>\n",
       "      <td>Why has nobody assassinated Kim Jong - un He i...</td>\n",
       "      <td>You ca n't just go around assassinating the le...</td>\n",
       "      <td>It is generally not acceptable or ethical to a...</td>\n",
       "      <td>613</td>\n",
       "      <td>930</td>\n",
       "      <td>-0.025000</td>\n",
       "      <td>0.032037</td>\n",
       "      <td>0.521429</td>\n",
       "      <td>0.602222</td>\n",
       "    </tr>\n",
       "    <tr>\n",
       "      <th>4</th>\n",
       "      <td>How was airplane technology able to advance so...</td>\n",
       "      <td>Wanting to kill the shit out of Germans drives...</td>\n",
       "      <td>After the Wright Brothers made the first power...</td>\n",
       "      <td>59</td>\n",
       "      <td>1235</td>\n",
       "      <td>-0.200000</td>\n",
       "      <td>0.336167</td>\n",
       "      <td>0.800000</td>\n",
       "      <td>0.484583</td>\n",
       "    </tr>\n",
       "    <tr>\n",
       "      <th>...</th>\n",
       "      <td>...</td>\n",
       "      <td>...</td>\n",
       "      <td>...</td>\n",
       "      <td>...</td>\n",
       "      <td>...</td>\n",
       "      <td>...</td>\n",
       "      <td>...</td>\n",
       "      <td>...</td>\n",
       "      <td>...</td>\n",
       "    </tr>\n",
       "    <tr>\n",
       "      <th>95</th>\n",
       "      <td>How come the Constitution of the US is relevan...</td>\n",
       "      <td>The Constitution is the highest law of the lan...</td>\n",
       "      <td>The Constitution of the United States is the s...</td>\n",
       "      <td>368</td>\n",
       "      <td>1281</td>\n",
       "      <td>-0.083333</td>\n",
       "      <td>0.182286</td>\n",
       "      <td>0.333333</td>\n",
       "      <td>0.648095</td>\n",
       "    </tr>\n",
       "    <tr>\n",
       "      <th>96</th>\n",
       "      <td>Why does Valve have Greenlight would n't it ma...</td>\n",
       "      <td>Now , There are 2 problems with steam , and bo...</td>\n",
       "      <td>Valve, the company that developed the Steam pl...</td>\n",
       "      <td>876</td>\n",
       "      <td>1034</td>\n",
       "      <td>-0.061111</td>\n",
       "      <td>0.000000</td>\n",
       "      <td>0.388194</td>\n",
       "      <td>0.346154</td>\n",
       "    </tr>\n",
       "    <tr>\n",
       "      <th>97</th>\n",
       "      <td>why do people so commonly say SO instead of bo...</td>\n",
       "      <td>SO covers boyfriends , girlfriends , husbands ...</td>\n",
       "      <td>People might use the term \"SO\" instead of \"boy...</td>\n",
       "      <td>125</td>\n",
       "      <td>846</td>\n",
       "      <td>-0.250000</td>\n",
       "      <td>0.080769</td>\n",
       "      <td>0.495833</td>\n",
       "      <td>0.504487</td>\n",
       "    </tr>\n",
       "    <tr>\n",
       "      <th>98</th>\n",
       "      <td>How do companies that buy &amp; re - sell other pe...</td>\n",
       "      <td>I get that they are \" bottom feeders \" but to ...</td>\n",
       "      <td>When a company or individual owes money to ano...</td>\n",
       "      <td>202</td>\n",
       "      <td>1254</td>\n",
       "      <td>0.170000</td>\n",
       "      <td>0.112500</td>\n",
       "      <td>0.700000</td>\n",
       "      <td>0.465625</td>\n",
       "    </tr>\n",
       "    <tr>\n",
       "      <th>99</th>\n",
       "      <td>What is Heisenberg 's uncertainty principle in...</td>\n",
       "      <td>In the simplest terms , anything we do to try ...</td>\n",
       "      <td>Heisenberg's uncertainty principle is a fundam...</td>\n",
       "      <td>363</td>\n",
       "      <td>1438</td>\n",
       "      <td>-0.322222</td>\n",
       "      <td>0.105833</td>\n",
       "      <td>0.508333</td>\n",
       "      <td>0.505333</td>\n",
       "    </tr>\n",
       "  </tbody>\n",
       "</table>\n",
       "<p>100 rows × 9 columns</p>\n",
       "</div>"
      ],
      "text/plain": [
       "                                             question  \\\n",
       "0   Why is every book I hear about a \" NY Times # ...   \n",
       "1   If salt is so bad for cars , why do we use it ...   \n",
       "2   Why do we still have SD TV channels when HD lo...   \n",
       "3   Why has nobody assassinated Kim Jong - un He i...   \n",
       "4   How was airplane technology able to advance so...   \n",
       "..                                                ...   \n",
       "95  How come the Constitution of the US is relevan...   \n",
       "96  Why does Valve have Greenlight would n't it ma...   \n",
       "97  why do people so commonly say SO instead of bo...   \n",
       "98  How do companies that buy & re - sell other pe...   \n",
       "99  What is Heisenberg 's uncertainty principle in...   \n",
       "\n",
       "                                         human_answer  \\\n",
       "0   Basically there are many categories of \" Best ...   \n",
       "1   salt is good for not dying in car crashes and ...   \n",
       "2   The way it works is that old TV stations got a...   \n",
       "3   You ca n't just go around assassinating the le...   \n",
       "4   Wanting to kill the shit out of Germans drives...   \n",
       "..                                                ...   \n",
       "95  The Constitution is the highest law of the lan...   \n",
       "96  Now , There are 2 problems with steam , and bo...   \n",
       "97  SO covers boyfriends , girlfriends , husbands ...   \n",
       "98  I get that they are \" bottom feeders \" but to ...   \n",
       "99  In the simplest terms , anything we do to try ...   \n",
       "\n",
       "                                       chatgpt_answer  human_answer_len  \\\n",
       "0   There are many different best seller lists tha...               600   \n",
       "1   Salt is used on roads to help melt ice and sno...               207   \n",
       "2   There are a few reasons why we still have SD (...               784   \n",
       "3   It is generally not acceptable or ethical to a...               613   \n",
       "4   After the Wright Brothers made the first power...                59   \n",
       "..                                                ...               ...   \n",
       "95  The Constitution of the United States is the s...               368   \n",
       "96  Valve, the company that developed the Steam pl...               876   \n",
       "97  People might use the term \"SO\" instead of \"boy...               125   \n",
       "98  When a company or individual owes money to ano...               202   \n",
       "99  Heisenberg's uncertainty principle is a fundam...               363   \n",
       "\n",
       "    chatgpt_answer_len  human_polarity  chatgpt_polarity  human_subjectivity  \\\n",
       "0                 1114        0.696667          0.352774            0.348333   \n",
       "1                 1148        0.289286          0.113158            0.625000   \n",
       "2                  789        0.160761          0.196140            0.387570   \n",
       "3                  930       -0.025000          0.032037            0.521429   \n",
       "4                 1235       -0.200000          0.336167            0.800000   \n",
       "..                 ...             ...               ...                 ...   \n",
       "95                1281       -0.083333          0.182286            0.333333   \n",
       "96                1034       -0.061111          0.000000            0.388194   \n",
       "97                 846       -0.250000          0.080769            0.495833   \n",
       "98                1254        0.170000          0.112500            0.700000   \n",
       "99                1438       -0.322222          0.105833            0.508333   \n",
       "\n",
       "    chatgpt_subjectivity  \n",
       "0               0.490007  \n",
       "1               0.577193  \n",
       "2               0.574912  \n",
       "3               0.602222  \n",
       "4               0.484583  \n",
       "..                   ...  \n",
       "95              0.648095  \n",
       "96              0.346154  \n",
       "97              0.504487  \n",
       "98              0.465625  \n",
       "99              0.505333  \n",
       "\n",
       "[100 rows x 9 columns]"
      ]
     },
     "execution_count": 73,
     "metadata": {},
     "output_type": "execute_result"
    }
   ],
   "source": [
    "df[\"human_subjectivity\"] = df[\"human_answer\"].apply(subjectivity)\n",
    "df[\"chatgpt_subjectivity\"] = df[\"chatgpt_answer\"].apply(subjectivity)\n",
    "df"
   ]
  },
  {
   "cell_type": "code",
   "execution_count": 74,
   "metadata": {},
   "outputs": [
    {
     "name": "stdout",
     "output_type": "stream",
     "text": [
      "🎉 All Tests Passed! 🎉\n"
     ]
    }
   ],
   "source": [
    "### TEST CASE for Part 4: Sentiment Analysis - Subjectivity\n",
    "tada = \"\\N{PARTY POPPER}\"\n",
    "import math\n",
    "assert('human_subjectivity' in df.columns), \"You must have add a column named `human_subjectivity` to your DataFrame.\"\n",
    "assert('chatgpt_subjectivity' in df.columns), \"You must have add a column named `chatgpt_subjectivity` to your DataFrame.\"\n",
    "assert( math.isclose( df[\"human_subjectivity\"].mean(), 0.4507534813188739 ) ), \"Your calculation of `human_subjectivity` is incorrect.\"\n",
    "assert( math.isclose( df[\"chatgpt_subjectivity\"].std(), 0.10025355258208316 ) ), \"Your calculation of `chatgpt_subjectivity` is incorrect.\"\n",
    "print(f\"{tada} All Tests Passed! {tada}\")"
   ]
  },
  {
   "cell_type": "markdown",
   "metadata": {},
   "source": [
    "### Analysis: Overall Results So Far\n",
    "\n",
    "Run the following cell to see a summary of the results you found so far:"
   ]
  },
  {
   "cell_type": "code",
   "execution_count": 75,
   "metadata": {},
   "outputs": [
    {
     "data": {
      "text/html": [
       "<div>\n",
       "<style scoped>\n",
       "    .dataframe tbody tr th:only-of-type {\n",
       "        vertical-align: middle;\n",
       "    }\n",
       "\n",
       "    .dataframe tbody tr th {\n",
       "        vertical-align: top;\n",
       "    }\n",
       "\n",
       "    .dataframe thead th {\n",
       "        text-align: right;\n",
       "    }\n",
       "</style>\n",
       "<table border=\"1\" class=\"dataframe\">\n",
       "  <thead>\n",
       "    <tr style=\"text-align: right;\">\n",
       "      <th></th>\n",
       "      <th>Metric</th>\n",
       "      <th>Human</th>\n",
       "      <th>ChatGPT</th>\n",
       "      <th>p-value</th>\n",
       "      <th>significant</th>\n",
       "    </tr>\n",
       "  </thead>\n",
       "  <tbody>\n",
       "    <tr>\n",
       "      <th>0</th>\n",
       "      <td>Response Length (mean):</td>\n",
       "      <td>729.880000</td>\n",
       "      <td>1098.770000</td>\n",
       "      <td>0.001578</td>\n",
       "      <td>Yes (p &lt; 0.05)</td>\n",
       "    </tr>\n",
       "    <tr>\n",
       "      <th>1</th>\n",
       "      <td>Polarity (mean):</td>\n",
       "      <td>0.077908</td>\n",
       "      <td>0.098595</td>\n",
       "      <td>(not tested)</td>\n",
       "      <td>?</td>\n",
       "    </tr>\n",
       "    <tr>\n",
       "      <th>2</th>\n",
       "      <td>Subjectivity (mean of absolutely values):</td>\n",
       "      <td>0.450753</td>\n",
       "      <td>0.499217</td>\n",
       "      <td>(not tested)</td>\n",
       "      <td>?</td>\n",
       "    </tr>\n",
       "  </tbody>\n",
       "</table>\n",
       "</div>"
      ],
      "text/plain": [
       "                                      Metric       Human      ChatGPT  \\\n",
       "0                    Response Length (mean):  729.880000  1098.770000   \n",
       "1                           Polarity (mean):    0.077908     0.098595   \n",
       "2  Subjectivity (mean of absolutely values):    0.450753     0.499217   \n",
       "\n",
       "        p-value     significant  \n",
       "0      0.001578  Yes (p < 0.05)  \n",
       "1  (not tested)               ?  \n",
       "2  (not tested)               ?  "
      ]
     },
     "execution_count": 75,
     "metadata": {},
     "output_type": "execute_result"
    }
   ],
   "source": [
    "pd.DataFrame([\n",
    "  {\"Metric\": \"Response Length (mean):\",  \"Human\": human_avg, \"ChatGPT\": ai_avg, \"p-value\": p_value, \"significant\": (\"Yes (p < 0.05)\" if p_value < 0.05 else \"No\") },\n",
    "  {\"Metric\": \"Polarity (mean):\", \"Human\": df.human_polarity.mean(), \"ChatGPT\": df.chatgpt_polarity.mean(), \"p-value\": \"(not tested)\", \"significant\": \"?\" },\n",
    "  {\"Metric\": \"Subjectivity (mean of absolutely values):\", \"Human\": df.human_subjectivity.mean(), \"ChatGPT\": df.chatgpt_subjectivity.mean(), \"p-value\": \"(not tested)\", \"significant\": \"?\" },\n",
    "])"
   ]
  },
  {
   "cell_type": "markdown",
   "metadata": {},
   "source": [
    "<hr style=\"color: #DD3403;\">"
   ]
  },
  {
   "cell_type": "markdown",
   "metadata": {},
   "source": [
    "## Part 5: Testing if the Difference in Subjectivity is Statistically Significant"
   ]
  },
  {
   "cell_type": "markdown",
   "metadata": {},
   "source": [
    "To determine if the difference between the subjectivity is statistically significant, we're going to conduct another t-test. Let's first state our null and alternative hypotheses.\n",
    "\n",
    "> **Null hypothesis**: There is no significant difference between the means of the human and ChatGPT subjectivity.\n",
    "> \n",
    "> **Alternative hypothesis**: There is a significant difference between the means of the human and ChatGPT subjectivity."
   ]
  },
  {
   "cell_type": "markdown",
   "metadata": {},
   "source": [
    "### Part 5.1: Preforming the t-test\n",
    "\n",
    "Use the `scipy.stats.ttest_ind` function again to get the t-stat and p-value, storing it as `t_stat_subjectivity` and `p_value_subjectivity` "
   ]
  },
  {
   "cell_type": "code",
   "execution_count": 80,
   "metadata": {},
   "outputs": [],
   "source": [
    "# Compute a t-test:\n",
    "#    Syntax: t_stat_subjectivity, p_value_subjectivity = ttest_ind( ... )\n",
    "t_stat_subjectivity, p_value_subjectivity = scipy.stats.ttest_ind(df[\"human_subjectivity\"],df[\"chatgpt_subjectivity\"])"
   ]
  },
  {
   "cell_type": "code",
   "execution_count": 81,
   "metadata": {},
   "outputs": [
    {
     "data": {
      "text/plain": [
       "np.float64(-2.5152049954631126)"
      ]
     },
     "execution_count": 81,
     "metadata": {},
     "output_type": "execute_result"
    }
   ],
   "source": [
    "t_stat_subjectivity"
   ]
  },
  {
   "cell_type": "code",
   "execution_count": 82,
   "metadata": {},
   "outputs": [
    {
     "data": {
      "text/plain": [
       "np.float64(0.012691373254489834)"
      ]
     },
     "execution_count": 82,
     "metadata": {},
     "output_type": "execute_result"
    }
   ],
   "source": [
    "p_value_subjectivity"
   ]
  },
  {
   "cell_type": "markdown",
   "metadata": {},
   "source": [
    "### Part 5.2: Choosing Your Conclusion\n",
    "\n",
    "Using the calculated p-value and an alpha level of 0.05, we can determine if there is a significant difference between the two mean values.\n",
    "\n",
    "For each set of comments, un-comment **exactly one line in each set** corresponding to the true statement:"
   ]
  },
  {
   "cell_type": "code",
   "execution_count": 84,
   "metadata": {},
   "outputs": [
    {
     "name": "stdout",
     "output_type": "stream",
     "text": [
      "Conclusion: The p-value is less than 0.05 (5%) so there IS a statistically significant difference difference between the means of the subjectivity scores.\n"
     ]
    }
   ],
   "source": [
    "# == Un-comment the correct statement for the p-value: ==\n",
    "#conclusion2_p_value = \"The p-value is greater than 0.05 (5%)\"\n",
    "conclusion2_p_value = \"The p-value is less than 0.05 (5%)\"\n",
    "\n",
    "# == Un-comment the correct statement for the significance: ==\n",
    "conclusion2_significance = \"there IS a statistically significant difference\"\n",
    "#conclusion2_significance = \"there is NOT a statistically significant difference\"\n",
    "\n",
    "# == We will print your conclusion ==\n",
    "print(f\"Conclusion: {conclusion2_p_value} so {conclusion2_significance} difference between the means of the subjectivity scores.\")"
   ]
  },
  {
   "cell_type": "code",
   "execution_count": 85,
   "metadata": {},
   "outputs": [
    {
     "name": "stdout",
     "output_type": "stream",
     "text": [
      "🎉 All Tests Passed! 🎉\n"
     ]
    }
   ],
   "source": [
    "### TEST CASE for Part 5: Testing if the Difference in Subjectivity is Statistically Significant\n",
    "tada = \"\\N{PARTY POPPER}\"\n",
    "assert(\"t_stat\" in vars())\n",
    "assert(\"p_value\" in vars())\n",
    "\n",
    "import math\n",
    "assert( math.isclose(t_stat_subjectivity * p_value_subjectivity, -0.031921405408979774) ), \"Check your t_stat and p_value.\"\n",
    "assert( len(conclusion2_p_value) * len(conclusion2_significance) == 1598 ), \"Your conclusion is incorrect.\"\n",
    "\n",
    "print(f\"{tada} All Tests Passed! {tada}\")"
   ]
  },
  {
   "cell_type": "markdown",
   "metadata": {},
   "source": [
    "### Analysis: Results\n",
    "\n",
    "Run the following cell to see a summary of the results of all of the metrics (we finished the t-test for polarity for you as well):"
   ]
  },
  {
   "cell_type": "code",
   "execution_count": 86,
   "metadata": {},
   "outputs": [
    {
     "data": {
      "text/html": [
       "<div>\n",
       "<style scoped>\n",
       "    .dataframe tbody tr th:only-of-type {\n",
       "        vertical-align: middle;\n",
       "    }\n",
       "\n",
       "    .dataframe tbody tr th {\n",
       "        vertical-align: top;\n",
       "    }\n",
       "\n",
       "    .dataframe thead th {\n",
       "        text-align: right;\n",
       "    }\n",
       "</style>\n",
       "<table border=\"1\" class=\"dataframe\">\n",
       "  <thead>\n",
       "    <tr style=\"text-align: right;\">\n",
       "      <th></th>\n",
       "      <th>Metric</th>\n",
       "      <th>Human</th>\n",
       "      <th>ChatGPT</th>\n",
       "      <th>p-value</th>\n",
       "      <th>significant</th>\n",
       "    </tr>\n",
       "  </thead>\n",
       "  <tbody>\n",
       "    <tr>\n",
       "      <th>0</th>\n",
       "      <td>Response Length (mean):</td>\n",
       "      <td>729.880000</td>\n",
       "      <td>1098.770000</td>\n",
       "      <td>0.001578</td>\n",
       "      <td>Yes (p &lt; 0.05)</td>\n",
       "    </tr>\n",
       "    <tr>\n",
       "      <th>1</th>\n",
       "      <td>Polarity (mean):</td>\n",
       "      <td>0.077908</td>\n",
       "      <td>0.098595</td>\n",
       "      <td>0.325826</td>\n",
       "      <td>No</td>\n",
       "    </tr>\n",
       "    <tr>\n",
       "      <th>2</th>\n",
       "      <td>Subjectivity (mean of absolutely values):</td>\n",
       "      <td>0.450753</td>\n",
       "      <td>0.499217</td>\n",
       "      <td>0.012691</td>\n",
       "      <td>Yes (p &lt; 0.05)</td>\n",
       "    </tr>\n",
       "  </tbody>\n",
       "</table>\n",
       "</div>"
      ],
      "text/plain": [
       "                                      Metric       Human      ChatGPT  \\\n",
       "0                    Response Length (mean):  729.880000  1098.770000   \n",
       "1                           Polarity (mean):    0.077908     0.098595   \n",
       "2  Subjectivity (mean of absolutely values):    0.450753     0.499217   \n",
       "\n",
       "    p-value     significant  \n",
       "0  0.001578  Yes (p < 0.05)  \n",
       "1  0.325826              No  \n",
       "2  0.012691  Yes (p < 0.05)  "
      ]
     },
     "execution_count": 86,
     "metadata": {},
     "output_type": "execute_result"
    }
   ],
   "source": [
    "pd.DataFrame([\n",
    "  {\"Metric\": \"Response Length (mean):\",  \"Human\": human_avg, \"ChatGPT\": ai_avg, \"p-value\": p_value, \"significant\": (\"Yes (p < 0.05)\" if p_value < 0.05 else \"No\") },\n",
    "  {\"Metric\": \"Polarity (mean):\", \"Human\": df.human_polarity.mean(), \"ChatGPT\": df.chatgpt_polarity.mean(), \"p-value\": 0.3258256055853501, \"significant\": \"No\" },\n",
    "  {\"Metric\": \"Subjectivity (mean of absolutely values):\", \"Human\": df.human_subjectivity.mean(), \"ChatGPT\": df.chatgpt_subjectivity.mean(), \"p-value\": p_value_subjectivity, \"significant\": (\"Yes (p < 0.05)\" if p_value_subjectivity < 0.05 else \"No\") },\n",
    "])"
   ]
  },
  {
   "cell_type": "markdown",
   "metadata": {},
   "source": [
    "<hr style=\"color: #DD3403;\">"
   ]
  },
  {
   "cell_type": "markdown",
   "metadata": {},
   "source": [
    "## Publish you work to your GitHub\n",
    "\n",
    "1.  ⚠️ **Make sure to save your work.** ⚠️ To do this, go to **File => Save All** or press **Crtl + S** on your keyboard. \n",
    "2.  After you have saved, exit this notebook and locate this file in your Module 5 folder. Move this file to your cloned GitHub repository folder which should be inside of the folder you created with your First and Last name. \n",
    "3. Open your terminal and change your directory to your cloned GitHub Repository and type in these commands:\n",
    "\n",
    "4. git add -A\n",
    "5. git commit -m \"Any message here\"\n",
    "6. git push"
   ]
  },
  {
   "cell_type": "markdown",
   "metadata": {},
   "source": []
  }
 ],
 "metadata": {
  "kernelspec": {
   "display_name": "Python 3",
   "language": "python",
   "name": "python3"
  },
  "language_info": {
   "codemirror_mode": {
    "name": "ipython",
    "version": 3
   },
   "file_extension": ".py",
   "mimetype": "text/x-python",
   "name": "python",
   "nbconvert_exporter": "python",
   "pygments_lexer": "ipython3",
   "version": "3.13.5"
  }
 },
 "nbformat": 4,
 "nbformat_minor": 2
}
